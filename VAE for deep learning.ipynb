{
 "cells": [
  {
   "cell_type": "markdown",
   "metadata": {
    "hideCode": false,
    "hidePrompt": false
   },
   "source": [
    "## Introduction\n",
    "#### Variational Autoencoder for Deep Learning of Images, Labels and Captions\n",
    "\n",
    "This notebook aims to document the process of implementing [this paper](https://proceedings.neurips.cc/paper/2016/file/eb86d510361fc23b59f18c1bc9802cc6-Paper.pdf) from scratch.\n",
    "I used [this article](https://towardsdatascience.com/understanding-variational-autoencoders-vaes-f70510919f73) to help me get a better intution of what varitional autoencoders do. I recently learnt about autoencoders from my dimensionality reduction class in CSC311 offered by UofT, however they just gave us a very brief introduction to them. Nevertheless, the intutions of the varitional autoencoder makes sense to me. "
   ]
  },
  {
   "cell_type": "markdown",
   "metadata": {
    "hideCode": false,
    "hidePrompt": false
   },
   "source": [
    "#### Convolution Review\n",
    "\n",
    "I was quite rusty with how traditional convolutions networks worked, and so I had to do a quick review. [This article](https://towardsdatascience.com/a-comprehensive-guide-to-convolutional-neural-networks-the-eli5-way-3bd2b1164a53) was a great help for getting me to re-understand it much quicker. \n",
    "\n",
    "Diving deep into \"convolution\" and \"cross correlation\" lead into a lot of signal processing which I am unfamiliar with. I feel that all I need to know is that convolution performs cross correlation with flipped kernels. Pytorch performs cross correlation, so I won't have to flip kernels here. "
   ]
  },
  {
   "cell_type": "code",
   "execution_count": 78,
   "metadata": {
    "hideCode": false,
    "hidePrompt": false
   },
   "outputs": [],
   "source": [
    "import torch.nn as nn \n",
    "import torch.nn.functional as F\n",
    "import torch\n",
    "import numpy as np\n",
    "from scipy import ndimage\n",
    "import itertools\n",
    "import torch.nn.init as init\n",
    "import math\n",
    "from torch.distributions.multivariate_normal import MultivariateNormal"
   ]
  },
  {
   "cell_type": "code",
   "execution_count": 79,
   "metadata": {
    "hideCode": false,
    "hidePrompt": false
   },
   "outputs": [],
   "source": [
    "a_test = np.array([[[1, 2, 0, 0],\n",
    "               [5, 3, 0, 4],\n",
    "               [0, 0, 0, 7],\n",
    "               [9, 3, 0, 0]], \n",
    "              \n",
    "              [[7, 2, 2, 0],\n",
    "               [4, 3, 0, 1],\n",
    "               [0, 5, 0, 0],\n",
    "               [0, 2, 1, 1]]])\n",
    "\n",
    "k_test = np.array([[[1,1,1],[1,1,0],[1,0,0]], [[1,1,1],[1,0,1],[1,1,1]]])"
   ]
  },
  {
   "cell_type": "code",
   "execution_count": 80,
   "metadata": {
    "hideCode": false,
    "hidePrompt": false
   },
   "outputs": [
    {
     "data": {
      "text/plain": [
       "array([[10, 24, 11,  3],\n",
       "       [25, 31, 18,  6],\n",
       "       [22, 27, 23, 14],\n",
       "       [16, 18, 18,  8]])"
      ]
     },
     "execution_count": 80,
     "metadata": {},
     "output_type": "execute_result"
    }
   ],
   "source": [
    "ndimage.correlate(a_test[0, ...], k_test[0, ...], mode='constant', cval=0) + \\\n",
    "ndimage.correlate(a_test[1, ...], k_test[1, ...], mode='constant', cval=0)"
   ]
  },
  {
   "cell_type": "code",
   "execution_count": 81,
   "metadata": {
    "hideCode": false,
    "hidePrompt": false
   },
   "outputs": [],
   "source": [
    "tensor_a = torch.FloatTensor(a_test[np.newaxis, ...])\n",
    "tensor_k = torch.FloatTensor(k_test[np.newaxis, ...])"
   ]
  },
  {
   "cell_type": "code",
   "execution_count": 82,
   "metadata": {
    "hideCode": false,
    "hidePrompt": false
   },
   "outputs": [
    {
     "data": {
      "text/plain": [
       "tensor([[[[10., 24., 11.,  3.],\n",
       "          [25., 31., 18.,  6.],\n",
       "          [22., 27., 23., 14.],\n",
       "          [16., 18., 18.,  8.]]]])"
      ]
     },
     "execution_count": 82,
     "metadata": {},
     "output_type": "execute_result"
    }
   ],
   "source": [
    "F.conv2d(tensor_a, tensor_k, padding=1)"
   ]
  },
  {
   "cell_type": "markdown",
   "metadata": {
    "hideCode": false,
    "hidePrompt": false
   },
   "source": [
    "### Image decoder: DDGM\n",
    "\n",
    "First I have to create the operation defined in (1) and (3).  \n",
    "\n",
    "For the convolution, it wasn't clear to me what the padding and stride were, so I assumed that we stick to CNN conventions and make the output shape the same as the input shape. "
   ]
  },
  {
   "cell_type": "code",
   "execution_count": 83,
   "metadata": {
    "hideCode": false,
    "hidePrompt": false
   },
   "outputs": [],
   "source": [
    "def DDGM_convolve(D, S):\n",
    "    \"\"\"\n",
    "    Perform sum_(kl) D^(kl, l) * S^(n, kl, l) as described in the paper. \n",
    "    D: 4D tensor with shape (KL-1, KL, kW, kH)\n",
    "        KL-1: Number of \"slices\" in the previous layer. I.e the out channel. \n",
    "        KL: Number of \"slices\" in the current layer. I.e the in channel.\n",
    "        kW, kH: kernel width and kernel height\n",
    "    \n",
    "    S: 3D tensor with the shape (KL, cW, cH)\n",
    "        KL: Number of 2D slices\n",
    "        iW, iH: code width and code height\n",
    "    \"\"\"\n",
    "    result = None\n",
    "    kernel_size = D.shape[2]\n",
    "    for i in range(D.shape[1]):\n",
    "        D_kl = D[:, i, ...].unsqueeze(1)\n",
    "        S_kl = S[i, ...].unsqueeze(0).unsqueeze(0)\n",
    "        current_sum = F.conv2d(S_kl, D_kl, stride=1, padding=(kernel_size-1)//2)\n",
    "        \n",
    "        if result is None:\n",
    "            result = current_sum\n",
    "        else:\n",
    "            result += current_sum\n",
    "        \n",
    "    return result.squeeze(0)"
   ]
  },
  {
   "cell_type": "code",
   "execution_count": 84,
   "metadata": {
    "hideCode": false,
    "hidePrompt": false
   },
   "outputs": [
    {
     "data": {
      "text/plain": [
       "torch.Size([5, 28, 28])"
      ]
     },
     "execution_count": 84,
     "metadata": {},
     "output_type": "execute_result"
    }
   ],
   "source": [
    "D = torch.rand((5, 3, 5, 5), requires_grad=True)\n",
    "S = torch.rand((3, 28, 28))\n",
    "DDGM_convolve(D, S).shape"
   ]
  },
  {
   "cell_type": "markdown",
   "metadata": {
    "hideCode": false,
    "hidePrompt": false
   },
   "source": [
    "Then, I have to create a unpooling layer as defined in (2). I copied an excerpt of it here: \n",
    "\n",
    "\n",
    "For the stochastic unpooling, $S^{(n,k1 ,1)}$ is partitioned into contiguous $px × py$ pooling blocks (analogous to pooling blocks in CNN-based activation maps). Let $ z^{(n,k1 ,1)}_{i, j} \\in \\{0, 1\\}^{px py}$ be a vector\n",
    "of $pxpy − 1$ zeros, and a single one; $z^{(n,k1 ,1)}_{i, j}$ corresponds to pooling block $(i, j)$ in $S^{(n,k1 ,1)}$. \n",
    "\n",
    "\n",
    "The location of the non-zero element of $z^{(n,k1 ,1)}_{i, j} $ identifies the location of the single non-zero element $i,j$\n",
    "in the corresponding pooling block of $S^{(n,k1 ,1)}$. \n",
    "\n",
    "\n",
    "The non-zero element in pooling block $(i,j)$ of $S^{(n,k1 ,1)}$ is set to $\\tilde{S}_{i, j}^{(n,k1,2)}$, i.e., element $(i,j)$ in slice k1 of $\\tilde{S}^{(n,2)}$. \n",
    "\n",
    "Within the prior of the decoder, we impose z(n,k1,1) ∼ Mult(1; 1/(pxpy), . . . , 1/(pxpy)). \n",
    "\n",
    "Both $\\tilde{S}^{(n,2)}$ and $S^{(n,2)}$ are 3D tensors with K1 2D slices; as a result of the unpooling, the 2D slices in the sparse $S^{(n,2)}$ have $pxpy$ times more elements than the corresponding slices in the dense $\\tilde{S}^{(n,2)}$.\n",
    "\n",
    "I tried to illustrate what is I believe is happening below:\n",
    "\n",
    "<img src=\"./images/figure1.jpg\" width=\"600\">\n"
   ]
  },
  {
   "cell_type": "code",
   "execution_count": 85,
   "metadata": {
    "hideCode": false,
    "hidePrompt": false
   },
   "outputs": [],
   "source": [
    "def unpool(S, prob_vecs):\n",
    "    \"\"\"\n",
    "    Performs stochastic unpooling on S where the location of the non zero element in each pooling block (i, j)\n",
    "    in layer k is defined by z^k (i, j), and z^k, (i, j) \n",
    "    is sampled from a multinomial distribution Mult(1, prob_vecs(k, i, j)).\n",
    "    \n",
    "    Initially, each prob_vec = (1/(pxpy), ... 1/(pxpy)), i.e the prior distribution. \n",
    "    \n",
    "    The shape of each prob_vec must be pool_size**2. Here we are assuming that our pooling blocks\n",
    "    will always be square.\n",
    "    \n",
    "    S: 3D tensor with the shape (KL, cW, cH)\n",
    "    \n",
    "    prob_vecs: 4D tensor with the shape (KL, cW, cH, pool_size**2):\n",
    "        pool size: px * py\n",
    "    \"\"\"\n",
    "    \n",
    "    K, w, h = S.shape\n",
    "    pool_size = int(math.sqrt(prob_vecs.shape[3])) # We are assuming that the pooling blocks are square.\n",
    "    \n",
    "    result = torch.zeros(K, w*pool_size, h*pool_size)\n",
    "    for k in range(K):\n",
    "        for block in itertools.product(range(w), range(h)):\n",
    "            i, j = block\n",
    "            z = torch.zeros(pool_size**2)\n",
    "            idz = torch.multinomial(prob_vecs[k, i, j], 1).item()\n",
    "            z[idz] = S[k, i, j]\n",
    "            result[k, i*pool_size:(i+1)*pool_size, j*pool_size:(j+1)*pool_size] = z.reshape(-1, pool_size)\n",
    "    \n",
    "    return result"
   ]
  },
  {
   "cell_type": "markdown",
   "metadata": {},
   "source": [
    "While implementing the loss, I believe I misunderstood the unpooling process. I was under the impression that the encoding and decoding layer simply shared _distributions_ , where in fact they share _z_ itself. I.e we only perform sampling in the encoder's pooling layer, and we reuse those samples in the unpooling layer."
   ]
  },
  {
   "cell_type": "code",
   "execution_count": 86,
   "metadata": {},
   "outputs": [],
   "source": [
    "def unpool(S, z, pool_size):\n",
    "    \"\"\"\n",
    "    Performs stochastic unpooling on S where the location of the non zero element in each pooling block (i, j)\n",
    "    in layer k is defined by z(i, j)^k.\n",
    "    \n",
    "    S: 3D tensor with the shape (KL, cW, cH)\n",
    "    z: 3D tensor with the shape (KL, cW, cH)\n",
    "        Each value in z ranges from 0 inclusive to pool_size**2 exclusive.\n",
    "        \n",
    "        \n",
    "    \"\"\"\n",
    "    K, w, h = S.shape\n",
    "    result = torch.zeros(K, w*pool_size, h*pool_size)\n",
    "    \n",
    "    for k in range(K):\n",
    "        for block in itertools.product(range(w), range(h)):\n",
    "            i, j = block\n",
    "            unpool_block = torch.zeros(pool_size**2)\n",
    "#             idz = torch.multinomial(prob_vecs[k, i, j], 1).item()\n",
    "            idz = z[k, i, j]\n",
    "            unpool_block[idz] = S[k, i, j]\n",
    "            result[k, i*pool_size:(i+1)*pool_size, j*pool_size:(j+1)*pool_size] = unpool_block.reshape(-1, pool_size)\n",
    "    \n",
    "    return result\n",
    "        \n",
    "    \n",
    "    \n",
    "    "
   ]
  },
  {
   "cell_type": "markdown",
   "metadata": {
    "hideCode": false,
    "hidePrompt": false
   },
   "source": [
    "With these two functions, we can implement the DDGM. For the data generation layer, I used the trick described in \n",
    "[this article](https://towardsdatascience.com/understanding-variational-autoencoders-vaes-f70510919f73). \n",
    "\n",
    "$$X^{(n)} \\sim \\mathcal{N}(\\tilde{S}^{(n, 1)}, \\alpha_0^{-1} \\textbf{I})$$\n",
    "\n",
    "can be expressed as: \n",
    "\n",
    "$$X^{(n)} = \\tilde{S}^{(n, 1)} + \\alpha_0^{-1} Z $$\n",
    "\n",
    "Where $Z \\sim \\mathcal{N}(\\textbf{0}, \\textbf{I})$ due to the linearity of gaussian distributions. This allows backprop to \"reach\" the dictionary layers as we seperate the random process. I believe this is called a 'reparameterization trick'\n",
    "\n",
    "Note that we are storing the $log \\alpha_0$ to ensure that the precision will always be positive.\n",
    "\n"
   ]
  },
  {
   "cell_type": "code",
   "execution_count": 87,
   "metadata": {
    "hideCode": false,
    "hidePrompt": false
   },
   "outputs": [],
   "source": [
    "class DDGMDecoder(nn.Module):\n",
    "    \"\"\"\n",
    "    A 2 layered DDGM decoder, with a stochastic unpooling layer between the two layers,\n",
    "    and a final data generation layer. \n",
    "    \"\"\"\n",
    "    def __init__(self, K2, K1, Nc, d2_kernel, d1_kernel, iW, iH, pool_size=3):\n",
    "        \"\"\"\n",
    "        d2 is of shape (K1, K2, kW, kH)\n",
    "            K1: Number of \"slices\" in layer 1\n",
    "            K2: Number of \"slices\" in layer 2\n",
    "            kW, kH: kernel width, kernel height\n",
    "            \n",
    "        d1 is of shape(Nc, K1, kW, kH):\n",
    "            Nc: Number of channels of the image (1 for grayscale, 3 for rgb)\n",
    "            K1: Number of \"slices\" in layer 1\n",
    "            kW, kH: kernel width, kernel height\n",
    "            \n",
    "        distribution is of shape (iW, iH, pool_size**2):\n",
    "            iW, iW: input width, input height\n",
    "        \"\"\"\n",
    "        \n",
    "        super().__init__()\n",
    "        self._d2 = nn.Parameter(torch.Tensor(K1, K2, d2_kernel, d2_kernel))\n",
    "        self._d1 = nn.Parameter(torch.Tensor(Nc, K1, d1_kernel, d1_kernel))\n",
    "        self._pool_size = pool_size\n",
    "        \n",
    "        # See above for my misunderstanding\n",
    "        \n",
    "        # Uniformly distributed, equal to 1/pxpy, 1/pxpy... \n",
    "        # self._distribution = torch.ones(K1, iW, iH, pool_size**2) \n",
    "        \n",
    "        self._precision = nn.Parameter(torch.rand(1))\n",
    "        self._reset_parameters()\n",
    "        \n",
    "    # Initialization method is taken from the pytorch implementation of CNNs. \n",
    "    # https://pytorch.org/docs/stable/_modules/torch/nn/modules/conv.html#Conv2d\n",
    "    \n",
    "    def _reset_parameters(self):\n",
    "        init.kaiming_uniform_(self._d2, a=math.sqrt(5))\n",
    "        init.kaiming_uniform_(self._d1, a=math.sqrt(5))\n",
    "        \n",
    "    def forward(self, x, z):\n",
    "        \"\"\"\n",
    "        X: code generated from encoder\n",
    "            Shape: (K2, iW, iH)\n",
    "        \n",
    "        z: Unpooling map generated from the encoder.\n",
    "            Shape: (K2, iW, iH)\n",
    "        \n",
    "        \n",
    "        \"\"\"\n",
    "        x = DDGM_convolve(self._d2, x)\n",
    "        x = unpool(x, z, self._pool_size)\n",
    "#         x = unpool(x, self._distribution)\n",
    "        x = DDGM_convolve(self._d1, x)\n",
    "        \n",
    "        # Data Generation\n",
    "        Z = MultivariateNormal(torch.zeros(x.shape[1]*x.shape[2]), torch.eye(x.shape[1]*x.shape[2]))\n",
    "        slices = []\n",
    "        for k in range(x.shape[0]):\n",
    "            mean = x[k, ...].reshape(-1)\n",
    "            \n",
    "            \n",
    "            covar = (1/torch.exp(self._precision) ** 0.5)*(Z.sample())\n",
    "            slice_ = (mean + covar).reshape(x.shape[1], -1)\n",
    "            slices.append(slice_)\n",
    "        return torch.stack(slices)\n",
    "    \n",
    "#     def set_distribution(self, distribution):\n",
    "#         \"\"\"\n",
    "#         Sets the distribution for stochastic unpooling.\n",
    "#         \"\"\"\n",
    "#         self._distribution = distribution"
   ]
  },
  {
   "cell_type": "code",
   "execution_count": 88,
   "metadata": {
    "hideCode": false,
    "hidePrompt": false
   },
   "outputs": [],
   "source": [
    "ddgm = DDGMDecoder(K2 = 6, K1 = 4, Nc = 3, d2_kernel=3, d1_kernel=3, iW=10, iH=10)\n",
    "# ddgm(torch.rand(6, 10, 10))"
   ]
  },
  {
   "cell_type": "markdown",
   "metadata": {
    "hideCode": false,
    "hidePrompt": false
   },
   "source": [
    "###  Image Encoder: Deep CNN\n",
    "\n",
    "For the encoder, we can employ pytorch's conv2d modules as they perform the convolution that we need, and thus we do not need to define our own convolution method as we did above. However, we do need to create our own pooling function. "
   ]
  },
  {
   "cell_type": "code",
   "execution_count": 89,
   "metadata": {
    "hideCode": false,
    "hidePrompt": false
   },
   "outputs": [],
   "source": [
    "def pool(C, prob_vecs):\n",
    "    \"\"\"\n",
    "    Performs stochastic pooling on C, where the location of the element chosen in each pooling block (i, j)\n",
    "    in layer kis determined by z^k (i, j), and z(i, j) is sampled from a \n",
    "    multinomial distribution(1, prob_vecs[k, i, j]), and prob_vecs[k, i, j] is derived from \n",
    "    MLP(C^k (i, j)). \n",
    "    \n",
    "    \n",
    "    C is of size (Kl, iW, iH):\n",
    "        KL: Number of 2D \"slices\". \n",
    "        iW, iH: image width, image height. \n",
    "        \n",
    "    Returns: \n",
    "        Result: The result of the pooling. \n",
    "        z: The pooling map generated.\n",
    "    \n",
    "    \n",
    "    \"\"\"\n",
    "    \n",
    "    K, w, h = C.shape\n",
    "    pool_size = int(math.sqrt(prob_vecs.shape[-1]))\n",
    "    w_new, h_new = w//pool_size, h//pool_size\n",
    "    result = torch.zeros(K, w_new, h_new)\n",
    "    z = torch.zeros(K, w_new, h_new)\n",
    "    \n",
    "    for k in range(K):\n",
    "        for block in itertools.product(range(w_new), range(h_new)):\n",
    "            i, j = block\n",
    "            \n",
    "            idz = torch.multinomial(prob_vecs[k, i, j], 1).item()\n",
    "            C_block = C[k, i*pool_size:(i+1)*pool_size, j*pool_size:(j+1)*pool_size].reshape(-1)\n",
    "#             prob_vec = F.softmax(mlp(C_block), dim=-1)\n",
    "#             idz = torch.multinomial(prob_vec, 1).item()\n",
    "            \n",
    "            result[k, i, j] = C_block[idz]\n",
    "            z[k, i, j] = idz\n",
    "        \n",
    "    return result, z\n",
    "        "
   ]
  },
  {
   "cell_type": "code",
   "execution_count": 90,
   "metadata": {
    "hideCode": false,
    "hidePrompt": false
   },
   "outputs": [],
   "source": [
    "class CNNEncoder(nn.Module):\n",
    "    \"\"\"\n",
    "    A 2 layered CNN encoder, with a stochasting pooling layer between the two layers,\n",
    "    and a final code generation layer.\n",
    "    \"\"\"\n",
    "    \n",
    "    def __init__(self, Nc, K1, K2, f1_kernel, f2_kernel, iW, iH, pool_size=3):\n",
    "        \"\"\"\n",
    "        Parameters:\n",
    "        K1: Number of \"slices\" in layer 1\n",
    "        K2: Number of \"slices\" in layer 2\n",
    "        Nc: Number of channels of the image (1 for grayscale, 3 for rgb)\n",
    "        iW, iW: input width, input height\n",
    "        f1_kernel and f2_kernel: Size of the kernels for each of the filter banks.\n",
    "        \"\"\"\n",
    "        \n",
    "        super().__init__()\n",
    "        self.layer1 = nn.Conv2d(Nc, K1, kernel_size=f1_kernel, padding=(f1_kernel-1)//2, bias=False)\n",
    "        self.layer2 = nn.Conv2d(K1, K2, kernel_size=f2_kernel, padding=(f2_kernel-1)//2, bias=False)\n",
    "        \n",
    "        # MLP for distribution of stochastic pooling\n",
    "        self.mlp_pool = nn.Sequential(\n",
    "            nn.Linear(pool_size**2, 20), # 20 is randomly chosen here.\n",
    "            nn.Tanh(), \n",
    "            nn.Linear(20, pool_size**2)\n",
    "        )\n",
    "        \n",
    "        # MLP for code generation mean \n",
    "        self.mlp_mean = nn.Sequential(\n",
    "            nn.Linear((iW//pool_size) * (iH//pool_size), 20),\n",
    "            nn.Tanh(), \n",
    "            nn.Linear(20, (iW//pool_size) * (iH//pool_size))\n",
    "        )\n",
    "        \n",
    "        # MLP for code generation covariance \n",
    "        self.mlp_covar = nn.Sequential(\n",
    "            nn.Linear((iW//pool_size) * (iH//pool_size), 20),\n",
    "            nn.Tanh(), \n",
    "            nn.Linear(20, (iW//pool_size) * (iH//pool_size))\n",
    "        )\n",
    "        \n",
    "        self._pool_size = pool_size\n",
    "        \n",
    "    def get_distribution(self, C):\n",
    "        \"\"\"\n",
    "        Gets all the distributions for pooling, i.e the vector softmax(eta). \n",
    "        This distribution will be reused as the posterior for the decoder's unpooling as well.\n",
    "        \"\"\"\n",
    "        K, w, h = C.shape\n",
    "        pool_size = self._pool_size\n",
    "        w_new, h_new = w // pool_size, h // pool_size\n",
    "      \n",
    "        result = torch.zeros(K, w_new, h_new, self._pool_size**2)\n",
    "        for k in range(K):\n",
    "            for block in itertools.product(range(w_new), range(h_new)):\n",
    "                i, j = block\n",
    "                C_block = C[k, i*pool_size:(i+1)*pool_size, j*pool_size:(j+1)*pool_size].reshape(-1)\n",
    "                prob_vec = F.softmax(self.mlp_pool(C_block), dim=-1)\n",
    "                result[k, i, j, :] = prob_vec\n",
    "                \n",
    "        return result\n",
    "\n",
    "        \n",
    "    def forward(self, x):\n",
    "        \"\"\"\n",
    "        x: Input image\n",
    "            Shape: (Nc, iW, iH)\n",
    "        \"\"\"\n",
    "        \n",
    "        C1 = self.layer1(x.unsqueeze(0))\n",
    "        distribution = self.get_distribution(C1.squeeze(0))\n",
    "        \n",
    "        C1, z = pool(C1.squeeze(0), distribution)\n",
    "        C2 = self.layer2(C1.unsqueeze(0))\n",
    "        C2 = C2.squeeze(0)\n",
    "        \n",
    "        # Final Code generation\n",
    "        slices = []\n",
    "        Z = MultivariateNormal(torch.zeros(C2.shape[1]*C2.shape[2]), torch.eye(C2.shape[1]*C2.shape[2]))\n",
    "        for k in range(C2.shape[0]):\n",
    "            mean = self.mlp_mean(C2[k, ...].reshape(-1))\n",
    "            \n",
    "            # Why are we doing exp here? In the supplementary paper (section 4), it is described that \n",
    "            # log sigma is created with the mlp, and therefore we need to perform exp() to get sigma.\n",
    "            \n",
    "            covar = torch.exp(torch.diag(self.mlp_covar(C2[k, ...].reshape(-1)))) @ Z.sample()\n",
    "            slice_ = (mean + covar).reshape(C2.shape[1], -1)\n",
    "            slices.append(slice_)\n",
    "    \n",
    "        return torch.stack(slices), z, distribution # (s, z, eta)\n",
    "\n",
    "        "
   ]
  },
  {
   "cell_type": "code",
   "execution_count": 91,
   "metadata": {
    "hideCode": false,
    "hidePrompt": false
   },
   "outputs": [
    {
     "data": {
      "text/plain": [
       "(torch.Size([6, 10, 10]), torch.Size([4, 10, 10]), torch.Size([4, 10, 10, 9]))"
      ]
     },
     "execution_count": 91,
     "metadata": {},
     "output_type": "execute_result"
    }
   ],
   "source": [
    "encoder = CNNEncoder(3, 4, 6, 3, 3, 32, 32)\n",
    "s, z, eta = encoder(torch.rand(3, 32, 32))\n",
    "s.shape, z.shape, eta.shape"
   ]
  },
  {
   "cell_type": "markdown",
   "metadata": {},
   "source": [
    "### Putting the VAE together\n",
    "\n",
    "Finally, we can piece the encoder and decoder together to form the VAE."
   ]
  },
  {
   "cell_type": "code",
   "execution_count": 92,
   "metadata": {},
   "outputs": [],
   "source": [
    "class VAE(nn.Module):\n",
    "    \n",
    "    def __init__(self, Nc, K1, K2, f1, f2, d2, d1, iW, iH, pool_size=3):\n",
    "        \"\"\"\n",
    "        Nc: Number of channels of the image. \n",
    "        K1: Number of 2D \"slices\" in layer 1. This is shared for the encoder and decoder.\n",
    "        K2: Number of 2D \"slices\" in layer 2. This is shared for the encoder and decoder. \n",
    "        f1, f2: Kernel size for the first and second filter bank respectively\n",
    "        d2, d1: Kernel size for the second and first dictionary respectively. \n",
    "        iW, iH: width and height of the image. \n",
    "        pool_size: The size of the pooling block. We are assuming that pooling blocks are square.\n",
    "        \"\"\"\n",
    "        \n",
    "        super().__init__()\n",
    "        self.encoder = CNNEncoder(Nc, K1, K2, f1, f2, iW, iH, pool_size)\n",
    "        cW, cH = iW // pool_size, iH // pool_size # code width, code height\n",
    "        self.decoder = DDGMDecoder(K2, K1, Nc, d2, d1, cW, cH, pool_size)\n",
    "        \n",
    "    def forward(self, x):\n",
    "        \"\"\"\n",
    "        x: Input image\n",
    "            Shape: (Nc, iW, iH)\n",
    "        \"\"\"\n",
    "        \n",
    "        s, z, eta = self.encoder(x)\n",
    "        z = z.type(torch.LongTensor)\n",
    "#         self.decoder.set_distribution(z)\n",
    "        return self.decoder(s, z)"
   ]
  },
  {
   "cell_type": "markdown",
   "metadata": {},
   "source": [
    "### Caption Generator: RNN"
   ]
  },
  {
   "cell_type": "markdown",
   "metadata": {},
   "source": [
    "I created a simple figure to translate section 3.2 into a visual model architecture to help implement the model.\n",
    "\n",
    "<img src=\"./images/model_arch.jpg\" width=600>\n",
    "\n",
    "Therefore, we need 3 layers to perform caption generation:\n",
    "\n",
    "- 2 layered MLP with tanh and softmax activation\n",
    "    - Generates first word from $s^{(n)}$\n",
    "    - Last layer converts hidden state $h_t^{(n)}$ into one hot word vector $y_t^{(n)}$\n",
    "    \n",
    "- Embedding layer\n",
    "    - Converts one hot word vector $y_t^{(n)}$ into word representation $w_t^{(n)}$\n",
    "    \n",
    "- RNN (Can be LTSU or GRU)\n",
    "    - Recursively generates other words until the stop symbol is generated.\n",
    "    \n",
    "\n",
    "\n",
    "For the implementation below, I opted to use the indices instead of a one hot vector since the operations support indices better. \n",
    "    "
   ]
  },
  {
   "cell_type": "code",
   "execution_count": 93,
   "metadata": {},
   "outputs": [],
   "source": [
    "class CaptionRNN(nn.Module):\n",
    "    \n",
    "    CAPTION_LIMIT = 30\n",
    "    \n",
    "    def __init__(self, V, M, H, C, stop_index):\n",
    "        \"\"\"\n",
    "        V: Size of the vocabulary\n",
    "        M: Size of embedded vector\n",
    "        H: Number of features for hidden state h\n",
    "        C: Flattened size of input code s\n",
    "        stop_index: The index that represents the end of a sentence.\n",
    "        \"\"\"\n",
    "        \n",
    "        super().__init__()\n",
    "        \n",
    "        self.mlp_l1 = nn.Linear(in_features=C, out_features=H)\n",
    "        self.mlp_l2 = nn.Linear(in_features=H, out_features=V)\n",
    "        \n",
    "        self.gru = nn.GRU(input_size=M, hidden_size=H, batch_first=True)\n",
    "        self.embedding = nn.Embedding(V, M)\n",
    "        self.stop_index = stop_index\n",
    "        \n",
    "        self.V = V\n",
    "    \n",
    "    def forward(self, x, limit=None):\n",
    "        \"\"\"\n",
    "        x: Unflattened code s.\n",
    "        Limit denotes the maximum number of words we should generate. \n",
    "            Default value can be set by changing CaptionRNN.CAPTION_LIMIT. \n",
    "        \"\"\"\n",
    "        \n",
    "        h1 = F.tanh(self.mlp_l1(x.reshape(-1)))\n",
    "        y1 = torch.multinomial(F.softmax(self.mlp_l2(h1), dim=-1), 1)\n",
    "        \n",
    "        words = [y1]\n",
    "        ht = h1\n",
    "        wt = self.embedding(y1)\n",
    "        yt = -1\n",
    "        \n",
    "        # Prevents the RNN from endlessly creating words\n",
    "        if not limit: \n",
    "            limit = CaptionRNN.CAPTION_LIMIT\n",
    "            \n",
    "        while len(words) < limit and not yt == self.stop_index:\n",
    "            # Output and hidden are the same in this case, so we just get the output. \n",
    "            \n",
    "            ht = self.gru(wt.unsqueeze(0), ht.unsqueeze(0).unsqueeze(0))[0]\n",
    "            ht = ht.squeeze(0).squeeze(0)\n",
    "            yt = torch.multinomial(F.softmax(self.mlp_l2(ht), dim=-1), 1)\n",
    "            words.append(yt)\n",
    "            wt = self.embedding(yt)\n",
    "    \n",
    "        return words\n"
   ]
  },
  {
   "cell_type": "code",
   "execution_count": 94,
   "metadata": {},
   "outputs": [],
   "source": [
    "test = CaptionRNN(V=10, M=20, H=20, C=600, stop_index=None)\n",
    "# test(torch.rand((6, 10, 10)))"
   ]
  },
  {
   "cell_type": "markdown",
   "metadata": {},
   "source": [
    "## Complete model\n",
    "\n",
    "Finally, we put the VAE and CaptionRNN together to create the complete model."
   ]
  },
  {
   "cell_type": "code",
   "execution_count": 95,
   "metadata": {},
   "outputs": [],
   "source": [
    "class VAECaption(nn.Module):\n",
    "    \n",
    "    def __init__(self, Nc, K1, K2, f1, f2, d2, d1, iW, iH, V, M, H, stop_index, pool_size=3):\n",
    "        \"\"\"\n",
    "        Nc: Number of channels of the image. \n",
    "        K1: Number of 2D \"slices\" in layer 1. This is shared for the encoder and decoder.\n",
    "        K2: Number of 2D \"slices\" in layer 2. This is shared for the encoder and decoder. \n",
    "        f1, f2: Kernel size for the first and second filter bank respectively\n",
    "        d2, d1: Kernel size for the second and first dictionary respectively. \n",
    "        iW, iH: width and height of the image. \n",
    "        V: Size of the vocabulary\n",
    "        M: Size of embedded vector\n",
    "        H: Number of features for hidden state h\n",
    "        stop_index: The index that indicates end of sentence.\n",
    "        \n",
    "        pool_size: The size of the pooling block. We are assuming that pooling blocks are square.\n",
    "        \"\"\"\n",
    "        super().__init__()\n",
    "        \n",
    "        self.encoder = CNNEncoder(Nc, K1, K2, f1, f2, iW, iH, pool_size)\n",
    "        cW, cH = iW // pool_size, iH // pool_size # code width, code height\n",
    "        self.decoder = DDGMDecoder(K2, K1, Nc, d2, d1, cW, cH, pool_size)\n",
    "        self.captioner = CaptionRNN(V, M, H, K2*cW*cH, stop_index)\n",
    "        \n",
    "    def forward(self, x, limit=None):\n",
    "        \"\"\"\n",
    "        x: Input image\n",
    "            Shape: (Nc, iW, iH)\n",
    "        Limit denotes the maximum number of words we should generate. \n",
    "            Default value can be set by changing CaptionRNN.CAPTION_LIMIT. \n",
    "        \"\"\"\n",
    "        \n",
    "        s, z, eta = self.encoder(x)\n",
    "        z = z.type(torch.LongTensor)\n",
    "#         self.decoder.set_distribution(z)\n",
    "        x_reconstructed = self.decoder(s, z)\n",
    "        caption = self.captioner(s)\n",
    "        return x_reconstructed, caption"
   ]
  },
  {
   "cell_type": "code",
   "execution_count": 96,
   "metadata": {},
   "outputs": [
    {
     "data": {
      "text/plain": [
       "(tensor([[[-0.4873, -0.5215, -0.0500,  ..., -0.3290,  0.1439,  0.1692],\n",
       "          [-0.2595, -0.3747, -0.7271,  ..., -1.2576,  0.2851, -1.5602],\n",
       "          [ 0.4097,  0.0191,  1.4520,  ..., -0.9461, -2.1795, -0.5890],\n",
       "          ...,\n",
       "          [-0.8850,  0.7901,  1.7845,  ...,  0.0868, -0.5727, -1.0024],\n",
       "          [-0.3776, -0.0455,  0.2311,  ...,  0.0774, -0.5381,  0.4454],\n",
       "          [ 0.6564, -1.9012,  1.9156,  ..., -0.3154,  0.7203, -0.5934]],\n",
       " \n",
       "         [[ 0.4866,  0.0028,  1.0455,  ..., -0.5608, -0.3806,  0.6513],\n",
       "          [ 1.3152, -0.3078, -0.7636,  ...,  0.5369,  0.3263,  0.2401],\n",
       "          [ 0.7313, -0.6512,  1.3235,  ...,  0.0942,  2.1545,  0.2901],\n",
       "          ...,\n",
       "          [ 0.4948,  0.8429,  1.0516,  ..., -0.0614,  0.1899,  0.2413],\n",
       "          [ 1.0551, -0.1526,  0.2379,  ...,  0.0183, -0.1193, -0.0080],\n",
       "          [ 0.3468,  1.7174, -1.0905,  ...,  0.1750, -0.2089,  0.4050]],\n",
       " \n",
       "         [[ 1.1417,  1.4179,  1.4491,  ...,  0.2550,  0.0644,  0.0770],\n",
       "          [ 0.8077,  1.5361, -0.1364,  ..., -1.1399,  0.6362, -0.6982],\n",
       "          [ 0.4101,  1.2808, -0.2262,  ..., -0.6436,  1.4535,  0.5814],\n",
       "          ...,\n",
       "          [ 0.8468, -0.0849,  0.6685,  ...,  0.5285,  0.8362,  0.1536],\n",
       "          [-0.8710, -0.8571,  0.5343,  ..., -0.3518, -0.9019, -1.2095],\n",
       "          [-1.1642,  0.7458,  0.3812,  ..., -0.9921,  0.5071, -0.3667]]],\n",
       "        grad_fn=<StackBackward>),\n",
       " [tensor([16]),\n",
       "  tensor([12]),\n",
       "  tensor([16]),\n",
       "  tensor([2]),\n",
       "  tensor([2]),\n",
       "  tensor([10]),\n",
       "  tensor([10]),\n",
       "  tensor([5]),\n",
       "  tensor([12]),\n",
       "  tensor([19]),\n",
       "  tensor([5]),\n",
       "  tensor([11]),\n",
       "  tensor([18]),\n",
       "  tensor([10]),\n",
       "  tensor([7]),\n",
       "  tensor([12]),\n",
       "  tensor([14]),\n",
       "  tensor([16]),\n",
       "  tensor([14]),\n",
       "  tensor([3]),\n",
       "  tensor([9]),\n",
       "  tensor([16]),\n",
       "  tensor([14]),\n",
       "  tensor([14]),\n",
       "  tensor([17]),\n",
       "  tensor([3]),\n",
       "  tensor([16]),\n",
       "  tensor([19]),\n",
       "  tensor([1]),\n",
       "  tensor([1])])"
      ]
     },
     "execution_count": 96,
     "metadata": {},
     "output_type": "execute_result"
    }
   ],
   "source": [
    "model = VAECaption(Nc=3, K1 = 4, K2 = 6, f1=3, f2=3, d2=3, d1=3, iW=32, iH=32, V=20, M=30, H=40, stop_index=None)\n",
    "model(torch.rand((3, 32, 32)))"
   ]
  },
  {
   "cell_type": "markdown",
   "metadata": {},
   "source": [
    "## Unsupervised loss\n",
    "\n",
    "\n",
    "\n",
    "We use the equations provided in [the supplementary material](https://papers.nips.cc/paper/2016/file/eb86d510361fc23b59f18c1bc9802cc6-Supplemental.zip) to try and formulate the loss function.\n",
    "\n",
    "From equation (5) in the supplementary material, we have the following:\n",
    "\n",
    "$$ \\mathcal{L}(\\mathbf{X}, \\mathbf{Y}) = -D_{KL}[q_{\\phi}(\\mathbf{s} | \\mathbf{X})|| p_{\\alpha}(\\mathbf{s})] + \\mathbb{E}_{q_{\\phi}(\\mathbf{s} | \\mathbf{X})} \\Big\\{ \\xi log(p_{\\psi}(\\mathbf{Y} | \\mathbf{s})) + \\mathbb{E}_{q_{\\phi}(\\mathbf{z} | \\mathbf{X})} \\big[ log p_{\\alpha}(\\mathbf{X}, \\mathbf{z} | \\mathbf{s}) - log q_{\\phi}(\\mathbf{z} | \\mathbf{X}) \\big] \\Big\\}$$\n",
    "\n",
    "\n",
    "The paper gave us a closed form solution of the KL term (equation 6), which is: \n",
    "\n",
    "$$\\frac{1}{2} \\sum_{j=1}^{J}\\big[ 1 - \\mu_j^2 - \\sigma_j^2 + log (\\sigma_j^2) \\big]$$\n",
    "\n",
    "It also showed us a reparameterization trick to help get rid of the $q_{\\phi}(\\mathbf{s} | \\mathbf{X})$ in the expectation (equation 7). \n",
    "\n",
    "We denote $\\hat{\\mathbf{s}}$ and $\\hat{\\mathbf{z}}$ to be the code and pooling map returned by our encoder. We can now get an approximation of the expected value as: \n",
    "\n",
    "$$  \\xi log(p_{\\psi}(\\mathbf{Y} | \\hat{\\mathbf{s}}) + \\mathbb{E}_{q_{\\phi}(\\mathbf{z} | \\mathbf{X})} \\big[ log p_{\\alpha}(\\mathbf{X}, \\mathbf{z} | \\hat{\\mathbf{s}}) - log q_{\\phi}(\\mathbf{z} | \\mathbf{X}) \\big]  $$\n",
    "\n",
    "\n",
    "We focus on the second expectation first. We realize that we can rewrite the expectation as the following:\n",
    "\n",
    "$$-D_{KL}(q_{\\phi}(\\mathbf{z} | \\mathbf{X}) || p_{\\alpha}(\\mathbf{z} | \\hat{\\mathbf{s}})) + \\mathbb{E}_{q_{\\phi}(\\mathbf{z} | \\mathbf{X})} log p_{\\alpha}(\\mathbf{X}| \\mathbf{z} , \\hat{\\mathbf{s}})$$\n",
    "\n",
    "From [this math stackexchange post](https://math.stackexchange.com/questions/485810/kl-divergence-of-multinomial-distribution) we can get the following equation for the KL divergence between two multinomial distributions. We note that the prior is uniform. \n",
    "\n",
    "$$-log(p) - \\frac{1}{p}\\sum_{m=1}^{p}log(\\eta_{i, j, k, m})$$\n",
    "\n",
    "Where p is the size of the (square) pooling block, and $\\eta{i, j, k}$ represents the probability vector for pooling block i, j in layer k of the pooling map. To get the full KL divergence, we will simply sum across all pooling blocks in all layers.\n",
    "\n",
    "We can get an approximation of the expected value as: \n",
    "\n",
    "$$log p_{\\alpha}(\\mathbf{X}| \\hat{\\mathbf{z}}, \\hat{\\mathbf{s}})$$\n",
    "\n",
    "\n",
    "Let $d(\\mathbf{s}, \\mathbf{z})$ denote the operations we perform on the DDGM to get the mean of the data generation layer. Thus:\n",
    "\n",
    "$$p_{\\alpha}(\\mathbf{X}| \\hat{\\mathbf{z}}, \\hat{\\mathbf{s}}) = \\mathcal{N}(\\mathbf{X}; d(\\hat{\\mathbf{s}}, \\hat{\\mathbf{z}}), \\alpha_0^{-1}\\mathbf{I})$$. \n",
    "\n",
    "Therefore, we can get $log p_{\\alpha}(\\mathbf{X}| \\hat{\\mathbf{z}}, \\hat{\\mathbf{s}})$ as: \n",
    "\n",
    "$$\\frac{1}{2}\\bigg[\\sum log \\alpha_0 - \\big(\\alpha_0(\\mathbf{X} - d(\\hat{\\mathbf{s}}, \\hat{\\mathbf{z}}))^T (\\mathbf{X} - d(\\hat{\\mathbf{s}}, \\hat{\\mathbf{z}}) \\big)\\bigg]$$\n",
    "\n",
    "\n",
    "Finally, for $\\xi log(p_{\\psi}(\\mathbf{Y} | \\mathbf{s}))$:\n",
    "\n",
    "$$p_{\\psi}(\\mathbf{Y} | \\mathbf{s}) = p(\\mathbf{y_1} | \\hat{\\mathbf{s}}) \\prod_{t=2}^{T} p(\\mathbf{y_t} | \\mathbf{y_{<t}}, \\hat{\\mathbf{s}})$$\n",
    "\n",
    "Where $p(\\mathbf{y_1} | \\hat{\\mathbf{s}})$ is $\\text{Softmax}(Vh_1)$ and $p(\\mathbf{y_t} | \\mathbf{y_{<t}}, \\hat{\\mathbf{s}})$ is $\\text{Softmax}(Vh_t)$. We can therefore get the equation: \n",
    "\n",
    "$$log \\text{Softmax}(Vh_1) + \\sum_{t=2}^{T} \\text{Softmax}(Vh_t) $$"
   ]
  },
  {
   "cell_type": "code",
   "execution_count": null,
   "metadata": {},
   "outputs": [],
   "source": []
  }
 ],
 "metadata": {
  "hide_code_all_hidden": false,
  "kernelspec": {
   "display_name": "Python 3",
   "language": "python",
   "name": "python3"
  },
  "language_info": {
   "codemirror_mode": {
    "name": "ipython",
    "version": 3
   },
   "file_extension": ".py",
   "mimetype": "text/x-python",
   "name": "python",
   "nbconvert_exporter": "python",
   "pygments_lexer": "ipython3",
   "version": "3.7.9"
  }
 },
 "nbformat": 4,
 "nbformat_minor": 4
}
