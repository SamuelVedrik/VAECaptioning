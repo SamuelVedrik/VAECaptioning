{
 "cells": [
  {
   "cell_type": "markdown",
   "metadata": {
    "hideCode": false,
    "hidePrompt": false
   },
   "source": [
    "## Introduction\n",
    "#### Variational Autoencoder for Deep Learning of Images, Labels and Captions\n",
    "\n",
    "This notebook aims to document the process of implementing [this paper](https://proceedings.neurips.cc/paper/2016/file/eb86d510361fc23b59f18c1bc9802cc6-Paper.pdf) from scratch.\n",
    "I used [this article](https://towardsdatascience.com/understanding-variational-autoencoders-vaes-f70510919f73) to help me get a better intution of what varitional autoencoders do. I recently learnt about autoencoders from my dimensionality reduction class in CSC311 offered by UofT, however they just gave us a very brief introduction to them. Nevertheless, the intutions of the varitional autoencoder makes sense to me. "
   ]
  },
  {
   "cell_type": "markdown",
   "metadata": {
    "hideCode": false,
    "hidePrompt": false
   },
   "source": [
    "#### Convolution Review\n",
    "\n",
    "I was quite rusty with how traditional convolutions networks worked, and so I had to do a quick review. [This article](https://towardsdatascience.com/a-comprehensive-guide-to-convolutional-neural-networks-the-eli5-way-3bd2b1164a53) was a great help for getting me to re-understand it much quicker. \n",
    "\n",
    "Diving deep into \"convolution\" and \"cross correlation\" lead into a lot of signal processing which I am unfamiliar with. I feel that all I need to know is that convolution performs cross correlation with flipped kernels. Pytorch performs cross correlation, so I won't have to flip kernels here. "
   ]
  },
  {
   "cell_type": "code",
   "execution_count": 1,
   "metadata": {
    "hideCode": false,
    "hidePrompt": false
   },
   "outputs": [],
   "source": [
    "import torch.nn as nn \n",
    "import torch.nn.functional as F\n",
    "import torch\n",
    "import numpy as np\n",
    "from scipy import ndimage\n",
    "import itertools\n",
    "import torch.nn.init as init\n",
    "import math\n",
    "from torch.distributions.multivariate_normal import MultivariateNormal"
   ]
  },
  {
   "cell_type": "code",
   "execution_count": 2,
   "metadata": {
    "hideCode": false,
    "hidePrompt": false
   },
   "outputs": [],
   "source": [
    "a_test = np.array([[[1, 2, 0, 0],\n",
    "               [5, 3, 0, 4],\n",
    "               [0, 0, 0, 7],\n",
    "               [9, 3, 0, 0]], \n",
    "              \n",
    "              [[7, 2, 2, 0],\n",
    "               [4, 3, 0, 1],\n",
    "               [0, 5, 0, 0],\n",
    "               [0, 2, 1, 1]]])\n",
    "\n",
    "k_test = np.array([[[1,1,1],[1,1,0],[1,0,0]], [[1,1,1],[1,0,1],[1,1,1]]])"
   ]
  },
  {
   "cell_type": "code",
   "execution_count": 3,
   "metadata": {
    "hideCode": false,
    "hidePrompt": false
   },
   "outputs": [
    {
     "data": {
      "text/plain": [
       "array([[10, 24, 11,  3],\n",
       "       [25, 31, 18,  6],\n",
       "       [22, 27, 23, 14],\n",
       "       [16, 18, 18,  8]])"
      ]
     },
     "execution_count": 3,
     "metadata": {},
     "output_type": "execute_result"
    }
   ],
   "source": [
    "ndimage.correlate(a_test[0, ...], k_test[0, ...], mode='constant', cval=0) + \\\n",
    "ndimage.correlate(a_test[1, ...], k_test[1, ...], mode='constant', cval=0)"
   ]
  },
  {
   "cell_type": "code",
   "execution_count": 4,
   "metadata": {
    "hideCode": false,
    "hidePrompt": false
   },
   "outputs": [],
   "source": [
    "tensor_a = torch.FloatTensor(a_test[np.newaxis, ...])\n",
    "tensor_k = torch.FloatTensor(k_test[np.newaxis, ...])"
   ]
  },
  {
   "cell_type": "code",
   "execution_count": 5,
   "metadata": {
    "hideCode": false,
    "hidePrompt": false
   },
   "outputs": [
    {
     "data": {
      "text/plain": [
       "tensor([[[[10., 24., 11.,  3.],\n",
       "          [25., 31., 18.,  6.],\n",
       "          [22., 27., 23., 14.],\n",
       "          [16., 18., 18.,  8.]]]])"
      ]
     },
     "execution_count": 5,
     "metadata": {},
     "output_type": "execute_result"
    }
   ],
   "source": [
    "F.conv2d(tensor_a, tensor_k, padding=1)"
   ]
  },
  {
   "cell_type": "code",
   "execution_count": 6,
   "metadata": {},
   "outputs": [],
   "source": [
    "a_test = torch.rand(1, 1, 5, 5)\n",
    "k_test = torch.rand(2, 1, 3, 3)"
   ]
  },
  {
   "cell_type": "code",
   "execution_count": 7,
   "metadata": {},
   "outputs": [
    {
     "data": {
      "text/plain": [
       "array([[[[0.32644776, 0.4368712 , 0.35318005, 0.7674539 , 0.895265  ],\n",
       "         [0.7926608 , 1.6193941 , 1.2907488 , 1.3212491 , 1.0629072 ],\n",
       "         [1.3301716 , 2.1398847 , 1.9209682 , 2.020923  , 1.1743714 ],\n",
       "         [1.0162964 , 2.313112  , 2.0096335 , 2.086295  , 1.6521789 ],\n",
       "         [0.93057394, 1.7167659 , 1.9477324 , 1.9742621 , 1.8312017 ]],\n",
       "\n",
       "        [[0.7284218 , 1.5049825 , 1.4446185 , 2.048427  , 0.74198586],\n",
       "         [2.014626  , 3.0170088 , 1.7462041 , 1.9341929 , 1.8349692 ],\n",
       "         [1.8427386 , 2.759331  , 2.7655177 , 3.52508   , 1.9118936 ],\n",
       "         [2.0676355 , 3.3261514 , 3.6520622 , 2.7186403 , 2.2854593 ],\n",
       "         [1.3174242 , 1.3933154 , 1.6284589 , 1.850345  , 1.4532061 ]]]],\n",
       "      dtype=float32)"
      ]
     },
     "execution_count": 7,
     "metadata": {},
     "output_type": "execute_result"
    }
   ],
   "source": [
    "np.stack([ndimage.correlate(a_test[0, ...], k_test[0, ...], mode='constant', cval=0), \\\n",
    "         ndimage.correlate(a_test[0, ...], k_test[1, ...], mode='constant', cval=0)], axis=1)"
   ]
  },
  {
   "cell_type": "code",
   "execution_count": 8,
   "metadata": {},
   "outputs": [
    {
     "data": {
      "text/plain": [
       "tensor([[[[0.3264, 0.4369, 0.3532, 0.7675, 0.8953],\n",
       "          [0.7927, 1.6194, 1.2907, 1.3212, 1.0629],\n",
       "          [1.3302, 2.1399, 1.9210, 2.0209, 1.1744],\n",
       "          [1.0163, 2.3131, 2.0096, 2.0863, 1.6522],\n",
       "          [0.9306, 1.7168, 1.9477, 1.9743, 1.8312]],\n",
       "\n",
       "         [[0.7284, 1.5050, 1.4446, 2.0484, 0.7420],\n",
       "          [2.0146, 3.0170, 1.7462, 1.9342, 1.8350],\n",
       "          [1.8427, 2.7593, 2.7655, 3.5251, 1.9119],\n",
       "          [2.0676, 3.3262, 3.6521, 2.7186, 2.2855],\n",
       "          [1.3174, 1.3933, 1.6285, 1.8503, 1.4532]]]])"
      ]
     },
     "execution_count": 8,
     "metadata": {},
     "output_type": "execute_result"
    }
   ],
   "source": [
    "F.conv2d(a_test, k_test, padding=1)"
   ]
  },
  {
   "cell_type": "markdown",
   "metadata": {
    "hideCode": false,
    "hidePrompt": false
   },
   "source": [
    "### Image decoder: DDGM\n",
    "\n",
    "First I have to create the operation defined in (1) and (3).  \n",
    "\n",
    "For the convolution, it wasn't clear to me what the padding and stride were, so I assumed that we stick to CNN conventions and make the output shape the same as the input shape. "
   ]
  },
  {
   "cell_type": "code",
   "execution_count": 9,
   "metadata": {
    "hideCode": false,
    "hidePrompt": false
   },
   "outputs": [],
   "source": [
    "def DDGM_convolve(D, S):\n",
    "    \"\"\"\n",
    "    Perform sum_(kl) D^(kl, l) * S^(n, kl, l) as described in the paper. \n",
    "    D: 4D tensor with shape (KL-1, KL, kW, kH)\n",
    "        KL-1: Number of \"slices\" in the previous layer. I.e the out channel. \n",
    "        KL: Number of \"slices\" in the current layer. I.e the in channel.\n",
    "        kW, kH: kernel width and kernel height\n",
    "    \n",
    "    S: 3D tensor with the shape (KL, cW, cH)\n",
    "        KL: Number of 2D slices\n",
    "        iW, iH: code width and code height\n",
    "    \"\"\"\n",
    "    result = None\n",
    "    kernel_size = D.shape[2]\n",
    "    for i in range(D.shape[1]):\n",
    "        D_kl = D[:, i, ...].unsqueeze(1)\n",
    "        S_kl = S[i, ...].unsqueeze(0).unsqueeze(0)\n",
    "        current_sum = F.conv2d(S_kl, D_kl, stride=1, padding=(kernel_size-1)//2)\n",
    "        \n",
    "        if result is None:\n",
    "            result = current_sum\n",
    "        else:\n",
    "            result += current_sum\n",
    "        \n",
    "    return result.squeeze(0)"
   ]
  },
  {
   "cell_type": "code",
   "execution_count": 10,
   "metadata": {
    "hideCode": false,
    "hidePrompt": false
   },
   "outputs": [
    {
     "data": {
      "text/plain": [
       "torch.Size([5, 28, 28])"
      ]
     },
     "execution_count": 10,
     "metadata": {},
     "output_type": "execute_result"
    }
   ],
   "source": [
    "D = torch.rand((5, 3, 5, 5), requires_grad=True)\n",
    "S = torch.rand((3, 28, 28))\n",
    "DDGM_convolve(D, S).shape"
   ]
  },
  {
   "cell_type": "markdown",
   "metadata": {
    "hideCode": false,
    "hidePrompt": false
   },
   "source": [
    "Then, I have to create a unpooling layer as defined in (2). I copied an excerpt of it here: \n",
    "\n",
    "\n",
    "For the stochastic unpooling, $S^{(n,k1 ,1)}$ is partitioned into contiguous $px × py$ pooling blocks (analogous to pooling blocks in CNN-based activation maps). Let $ z^{(n,k1 ,1)}_{i, j} \\in \\{0, 1\\}^{px py}$ be a vector\n",
    "of $pxpy − 1$ zeros, and a single one; $z^{(n,k1 ,1)}_{i, j}$ corresponds to pooling block $(i, j)$ in $S^{(n,k1 ,1)}$. \n",
    "\n",
    "\n",
    "The location of the non-zero element of $z^{(n,k1 ,1)}_{i, j} $ identifies the location of the single non-zero element $i,j$\n",
    "in the corresponding pooling block of $S^{(n,k1 ,1)}$. \n",
    "\n",
    "\n",
    "The non-zero element in pooling block $(i,j)$ of $S^{(n,k1 ,1)}$ is set to $\\tilde{S}_{i, j}^{(n,k1,2)}$, i.e., element $(i,j)$ in slice k1 of $\\tilde{S}^{(n,2)}$. \n",
    "\n",
    "Within the prior of the decoder, we impose z(n,k1,1) ∼ Mult(1; 1/(pxpy), . . . , 1/(pxpy)). \n",
    "\n",
    "Both $\\tilde{S}^{(n,2)}$ and $S^{(n,2)}$ are 3D tensors with K1 2D slices; as a result of the unpooling, the 2D slices in the sparse $S^{(n,2)}$ have $pxpy$ times more elements than the corresponding slices in the dense $\\tilde{S}^{(n,2)}$.\n",
    "\n",
    "I tried to illustrate what is I believe is happening below:\n",
    "\n",
    "<img src=\"./images/figure1.jpg\" width=\"600\">\n"
   ]
  },
  {
   "cell_type": "code",
   "execution_count": 11,
   "metadata": {
    "hideCode": false,
    "hidePrompt": false
   },
   "outputs": [],
   "source": [
    "def unpool(S, prob_vecs):\n",
    "    \"\"\"\n",
    "    Performs stochastic unpooling on S where the location of the non zero element in each pooling block (i, j)\n",
    "    in layer k is defined by z^k (i, j), and z^k, (i, j) \n",
    "    is sampled from a multinomial distribution Mult(1, prob_vecs(k, i, j)).\n",
    "    \n",
    "    Initially, each prob_vec = (1/(pxpy), ... 1/(pxpy)), i.e the prior distribution. \n",
    "    \n",
    "    The shape of each prob_vec must be pool_size**2. Here we are assuming that our pooling blocks\n",
    "    will always be square.\n",
    "    \n",
    "    S: 3D tensor with the shape (KL, cW, cH)\n",
    "    \n",
    "    prob_vecs: 4D tensor with the shape (KL, cW, cH, pool_size**2):\n",
    "        pool size: px * py\n",
    "    \"\"\"\n",
    "    \n",
    "    K, w, h = S.shape\n",
    "    pool_size = int(math.sqrt(prob_vecs.shape[3])) # We are assuming that the pooling blocks are square.\n",
    "    \n",
    "    result = torch.zeros(K, w*pool_size, h*pool_size)\n",
    "    for k in range(K):\n",
    "        for block in itertools.product(range(w), range(h)):\n",
    "            i, j = block\n",
    "            z = torch.zeros(pool_size**2)\n",
    "            idz = torch.multinomial(prob_vecs[k, i, j], 1).item()\n",
    "            z[idz] = S[k, i, j]\n",
    "            result[k, i*pool_size:(i+1)*pool_size, j*pool_size:(j+1)*pool_size] = z.reshape(-1, pool_size)\n",
    "    \n",
    "    return result"
   ]
  },
  {
   "cell_type": "markdown",
   "metadata": {},
   "source": [
    "While implementing the loss, I believe I misunderstood the unpooling process. I was under the impression that the encoding and decoding layer simply shared _distributions_ , where in fact they share _z_ itself. I.e we only perform sampling in the encoder's pooling layer, and we reuse those samples in the unpooling layer."
   ]
  },
  {
   "cell_type": "code",
   "execution_count": 12,
   "metadata": {},
   "outputs": [],
   "source": [
    "def unpool(S, z, pool_size):\n",
    "    \"\"\"\n",
    "    Performs stochastic unpooling on S where the location of the non zero element in each pooling block (i, j)\n",
    "    in layer k is defined by z(i, j)^k.\n",
    "    \n",
    "    S: 3D tensor with the shape (KL, cW, cH)\n",
    "    z: 3D tensor with the shape (KL, cW, cH)\n",
    "        Each value in z ranges from 0 inclusive to pool_size**2 exclusive.\n",
    "        \n",
    "        \n",
    "    \"\"\"\n",
    "    K, w, h = S.shape\n",
    "    result = torch.zeros(K, w*pool_size, h*pool_size)\n",
    "    \n",
    "#     for k in range(K):\n",
    "#         for block in itertools.product(range(w), range(h)):\n",
    "#             i, j = block\n",
    "#             unpool_block = torch.zeros(pool_size**2)\n",
    "# #             idz = torch.multinomial(prob_vecs[k, i, j], 1).item()\n",
    "#             idz = z[k, i, j]\n",
    "#             unpool_block[idz] = S[k, i, j]\n",
    "#             result[k, i*pool_size:(i+1)*pool_size, j*pool_size:(j+1)*pool_size] = unpool_block.reshape(-1, pool_size)\n",
    "            \n",
    "    \n",
    "    for block in itertools.product(range(w), range(h)):\n",
    "        i, j = block\n",
    "        unpool_block = torch.zeros(K, pool_size**2)\n",
    "        idz = z[np.arange(K), i, j]\n",
    "        unpool_block[np.arange(K), idz] = S[np.arange(K), i, j]\n",
    "        result[np.arange(K), i*pool_size:(i+1)*pool_size, j*pool_size:(j+1)*pool_size] = \\\n",
    "        unpool_block.reshape(K, -1, pool_size)\n",
    "    \n",
    "    return result\n",
    "        \n",
    "    \n",
    "    \n",
    "    "
   ]
  },
  {
   "cell_type": "markdown",
   "metadata": {
    "hideCode": false,
    "hidePrompt": false
   },
   "source": [
    "With these two functions, we can implement the DDGM. For the data generation layer, I used the trick described in \n",
    "[this article](https://towardsdatascience.com/understanding-variational-autoencoders-vaes-f70510919f73). \n",
    "\n",
    "$$X^{(n)} \\sim \\mathcal{N}(\\tilde{S}^{(n, 1)}, \\alpha_0^{-1} \\textbf{I})$$\n",
    "\n",
    "can be expressed as: \n",
    "\n",
    "$$X^{(n)} = \\tilde{S}^{(n, 1)} + \\alpha_0^{-1} Z $$\n",
    "\n",
    "Where $Z \\sim \\mathcal{N}(\\textbf{0}, \\textbf{I})$ due to the linearity of gaussian distributions. This allows backprop to \"reach\" the dictionary layers as we seperate the random process. I believe this is called a 'reparameterization trick'\n",
    "\n",
    "Note that we are storing the $log \\alpha_0$ to ensure that the precision will always be positive.\n",
    "\n"
   ]
  },
  {
   "cell_type": "code",
   "execution_count": 13,
   "metadata": {
    "hideCode": false,
    "hidePrompt": false
   },
   "outputs": [],
   "source": [
    "class DDGMDecoder(nn.Module):\n",
    "    \"\"\"\n",
    "    A 2 layered DDGM decoder, with a stochastic unpooling layer between the two layers,\n",
    "    and a final data generation layer. \n",
    "    \"\"\"\n",
    "    def __init__(self, K2, K1, Nc, d2_kernel, d1_kernel, iW, iH, pool_size=3):\n",
    "        \"\"\"\n",
    "        d2 is of shape (K1, K2, kW, kH)\n",
    "            K1: Number of \"slices\" in layer 1\n",
    "            K2: Number of \"slices\" in layer 2\n",
    "            kW, kH: kernel width, kernel height\n",
    "            \n",
    "        d1 is of shape(Nc, K1, kW, kH):\n",
    "            Nc: Number of channels of the image (1 for grayscale, 3 for rgb)\n",
    "            K1: Number of \"slices\" in layer 1\n",
    "            kW, kH: kernel width, kernel height\n",
    "            \n",
    "        distribution is of shape (iW, iH, pool_size**2):\n",
    "            iW, iW: input width, input height\n",
    "        \"\"\"\n",
    "        \n",
    "        super().__init__()\n",
    "        self._d2 = nn.Parameter(torch.Tensor(K1, K2, d2_kernel, d2_kernel))\n",
    "        self._d1 = nn.Parameter(torch.Tensor(Nc, K1, d1_kernel, d1_kernel))\n",
    "        self._pool_size = pool_size\n",
    "        \n",
    "        # See above for my misunderstanding\n",
    "        \n",
    "        # Uniformly distributed, equal to 1/pxpy, 1/pxpy... \n",
    "        # self._distribution = torch.ones(K1, iW, iH, pool_size**2) \n",
    "        \n",
    "        self._precision = nn.Parameter(torch.rand(1))\n",
    "        self._reset_parameters()\n",
    "        \n",
    "    # Initialization method is taken from the pytorch implementation of CNNs. \n",
    "    # https://pytorch.org/docs/stable/_modules/torch/nn/modules/conv.html#Conv2d\n",
    "    \n",
    "    def _reset_parameters(self):\n",
    "        init.kaiming_uniform_(self._d2, a=math.sqrt(5))\n",
    "        init.kaiming_uniform_(self._d1, a=math.sqrt(5))\n",
    "        \n",
    "    def get_precision(self):\n",
    "        return self._precision\n",
    "        \n",
    "    def forward(self, x, z):\n",
    "        \"\"\"\n",
    "        X: code generated from encoder\n",
    "            Shape: (K2, iW, iH)\n",
    "        \n",
    "        z: Unpooling map generated from the encoder.\n",
    "            Shape: (K2, iW, iH)\n",
    "        \n",
    "        \n",
    "        \"\"\"\n",
    "        S2 = DDGM_convolve(self._d2, x)\n",
    "        S1 = unpool(S2, z, self._pool_size)\n",
    "#         x = unpool(x, self._distribution)\n",
    "        S1 = DDGM_convolve(self._d1, S1)\n",
    "        \n",
    "        # Data Generation\n",
    "        Z = MultivariateNormal(torch.zeros(S1.shape[1]*S1.shape[2]), torch.eye(S1.shape[1]*S1.shape[2]))\n",
    "        slices = []\n",
    "        for k in range(S1.shape[0]):\n",
    "            mean = S1[k, ...].reshape(-1)\n",
    "            \n",
    "            \n",
    "            covar = (1/(torch.exp(self._precision) ** 0.5))*(Z.sample())\n",
    "            slice_ = (mean + covar).reshape(S1.shape[1], -1)\n",
    "            slices.append(slice_)\n",
    "            \n",
    "        # See loss on why we return S1\n",
    "        return torch.stack(slices), S1\n",
    "    \n",
    "#     def set_distribution(self, distribution):\n",
    "#         \"\"\"\n",
    "#         Sets the distribution for stochastic unpooling.\n",
    "#         \"\"\"\n",
    "#         self._distribution = distribution"
   ]
  },
  {
   "cell_type": "code",
   "execution_count": 14,
   "metadata": {
    "hideCode": false,
    "hidePrompt": false
   },
   "outputs": [],
   "source": [
    "ddgm = DDGMDecoder(K2 = 6, K1 = 4, Nc = 3, d2_kernel=3, d1_kernel=3, iW=10, iH=10)\n",
    "# ddgm(torch.rand(6, 10, 10))"
   ]
  },
  {
   "cell_type": "markdown",
   "metadata": {
    "hideCode": false,
    "hidePrompt": false
   },
   "source": [
    "###  Image Encoder: Deep CNN\n",
    "\n",
    "For the encoder, we can employ pytorch's conv2d modules as they perform the convolution that we need, and thus we do not need to define our own convolution method as we did above. However, we do need to create our own pooling function. "
   ]
  },
  {
   "cell_type": "code",
   "execution_count": 15,
   "metadata": {
    "hideCode": false,
    "hidePrompt": false
   },
   "outputs": [],
   "source": [
    "def pool(C, prob_vecs, pool_size):\n",
    "    \"\"\"\n",
    "    Performs stochastic pooling on C, where the location of the element chosen in each pooling block (i, j)\n",
    "    in layer kis determined by z^k (i, j), and z(i, j) is sampled from a \n",
    "    multinomial distribution(1, prob_vecs[k, i, j]), and prob_vecs[k, i, j] is derived from \n",
    "    MLP(C^k (i, j)). \n",
    "    \n",
    "    \n",
    "    C is of size (Kl, iW, iH):\n",
    "        KL: Number of 2D \"slices\". \n",
    "        iW, iH: image width, image height. \n",
    "        \n",
    "    Returns: \n",
    "        Result: The result of the pooling. \n",
    "        z: The pooling map generated.\n",
    "    \n",
    "    \n",
    "    \"\"\"\n",
    "    \n",
    "    K, w, h = C.shape\n",
    "    w_new, h_new = w//pool_size, h//pool_size\n",
    "    result = torch.zeros(K, w_new, h_new)\n",
    "    z = torch.zeros(K, w_new, h_new).type(torch.LongTensor)\n",
    "    \n",
    "#     for k in range(K):\n",
    "#         for block in itertools.product(range(w_new), range(h_new)):\n",
    "#             i, j = block\n",
    "    \n",
    "#             idz = torch.multinomial(prob_vecs[k, i, j], 1).item()\n",
    "#             C_block = C[k, i*pool_size:(i+1)*pool_size, j*pool_size:(j+1)*pool_size].reshape(-1)\n",
    "# #             prob_vec = F.softmax(mlp(C_block), dim=-1)\n",
    "# #             idz = torch.multinomial(prob_vec, 1).item()\n",
    "            \n",
    "#             result[k, i, j] = C_block[idz]\n",
    "#             z[k, i, j] = idz\n",
    "\n",
    "    for block in itertools.product(range(w_new), range(h_new)):\n",
    "        i, j = block\n",
    "        idzs = torch.multinomial(prob_vecs[np.arange(K), i, j], 1).reshape(-1)\n",
    "        C_blocks = C[np.arange(K), i*pool_size:(i+1)*pool_size, j*pool_size:(j+1)*pool_size].reshape(K, -1)\n",
    "        result[np.arange(K), i, j] = C_blocks[np.arange(K), idzs]\n",
    "        z[np.arange(K), i, j] = idzs\n",
    "        \n",
    "    return result, z\n",
    "        "
   ]
  },
  {
   "cell_type": "code",
   "execution_count": 16,
   "metadata": {
    "hideCode": false,
    "hidePrompt": false
   },
   "outputs": [],
   "source": [
    "class CNNEncoder(nn.Module):\n",
    "    \"\"\"\n",
    "    A 2 layered CNN encoder, with a stochasting pooling layer between the two layers,\n",
    "    and a final code generation layer.\n",
    "    \"\"\"\n",
    "    \n",
    "    def __init__(self, Nc, K1, K2, f1_kernel, f2_kernel, iW, iH, pool_size=3):\n",
    "        \"\"\"\n",
    "        Parameters:\n",
    "        K1: Number of \"slices\" in layer 1\n",
    "        K2: Number of \"slices\" in layer 2\n",
    "        Nc: Number of channels of the image (1 for grayscale, 3 for rgb)\n",
    "        iW, iW: input width, input height\n",
    "        f1_kernel and f2_kernel: Size of the kernels for each of the filter banks.\n",
    "        \"\"\"\n",
    "        \n",
    "        super().__init__()\n",
    "        self.layer1 = nn.Conv2d(Nc, K1, kernel_size=f1_kernel, padding=(f1_kernel-1)//2, bias=False)\n",
    "        self.layer2 = nn.Conv2d(K1, K2, kernel_size=f2_kernel, padding=(f2_kernel-1)//2, bias=False)\n",
    "        \n",
    "        # MLP for distribution of stochastic pooling\n",
    "        self.mlp_pool = nn.Sequential(\n",
    "            nn.Linear(pool_size**2, 20), # 20 is randomly chosen here.\n",
    "            nn.Tanh(), \n",
    "            nn.Linear(20, pool_size**2)\n",
    "        )\n",
    "        \n",
    "        self.mlp_shared = nn.Sequential(\n",
    "            nn.Linear((iW//pool_size) * (iH//pool_size), 20),\n",
    "            nn.Tanh()\n",
    "        )\n",
    "        \n",
    "        self.mlp_mean = nn.Linear(20, (iW//pool_size) * (iH//pool_size))\n",
    "        self.mlp_covar = nn.Linear(20, (iW//pool_size) * (iH//pool_size))\n",
    "        \n",
    "        \n",
    "#         # MLP for code generation mean \n",
    "#         self.mlp_mean = nn.Sequential(\n",
    "#             nn.Linear((iW//pool_size) * (iH//pool_size), 20),\n",
    "#             nn.Tanh(), \n",
    "#             nn.Linear(20, (iW//pool_size) * (iH//pool_size))\n",
    "#         )\n",
    "        \n",
    "#         # MLP for code generation covariance \n",
    "#         self.mlp_covar = nn.Sequential(\n",
    "#             nn.Linear((iW//pool_size) * (iH//pool_size), 20),\n",
    "#             nn.Tanh(), \n",
    "#             nn.Linear(20, (iW//pool_size) * (iH//pool_size))\n",
    "#         )\n",
    "        \n",
    "        self._pool_size = pool_size\n",
    "        \n",
    "    def get_distribution(self, C):\n",
    "        \"\"\"\n",
    "        Gets all the distributions for pooling, i.e the vector softmax(eta). \n",
    "        This distribution will be reused as the posterior for the decoder's unpooling as well.\n",
    "        \"\"\"\n",
    "        K, w, h = C.shape\n",
    "        pool_size = self._pool_size\n",
    "        w_new, h_new = w // pool_size, h // pool_size\n",
    "      \n",
    "        result = torch.zeros(K, w_new, h_new, self._pool_size**2)\n",
    "        for k in range(K):\n",
    "            for block in itertools.product(range(w_new), range(h_new)):\n",
    "                i, j = block\n",
    "                C_block = C[k, i*pool_size:(i+1)*pool_size, j*pool_size:(j+1)*pool_size].reshape(-1)\n",
    "                eta = self.mlp_pool(C_block)\n",
    "                prob_vec = F.softmax(eta, dim=-1)\n",
    "                result[k, i, j, :] = prob_vec\n",
    "                \n",
    "        return result\n",
    "\n",
    "        \n",
    "    def forward(self, x):\n",
    "        \"\"\"\n",
    "        x: Input image\n",
    "            Shape: (Nc, iW, iH)\n",
    "        \"\"\"\n",
    "        \n",
    "        C1 = self.layer1(x.unsqueeze(0))\n",
    "        distribution = self.get_distribution(C1.squeeze(0))\n",
    "        \n",
    "        C1, z = pool(C1.squeeze(0), distribution, self._pool_size)\n",
    "        C2 = self.layer2(C1.unsqueeze(0))\n",
    "        C2 = C2.squeeze(0)\n",
    "        \n",
    "        # Final Code generation\n",
    "        slices = []\n",
    "        means = []\n",
    "        covars = []\n",
    "        Z = MultivariateNormal(torch.zeros(C2.shape[1]*C2.shape[2]), torch.eye(C2.shape[1]*C2.shape[2]))\n",
    "        for k in range(C2.shape[0]):\n",
    "            hidden = self.mlp_shared(C2[k, ...].reshape(-1))\n",
    "            \n",
    "            mean = self.mlp_mean(hidden)\n",
    "            original_covar = self.mlp_covar(hidden)\n",
    "            \n",
    "            # Why are we doing exp here? In the supplementary paper (section 4), it is described that \n",
    "            # log sigma is created with the mlp, and therefore we need to perform exp() to get sigma.\n",
    "            \n",
    "            covar = torch.exp(torch.diag(original_covar)) @ Z.sample()\n",
    "            slice_ = (mean + covar).reshape(C2.shape[1], -1)\n",
    "            slices.append(slice_)\n",
    "            means.append(mean)\n",
    "            covars.append(original_covar)\n",
    "    \n",
    "        return torch.stack(slices), z, distribution, torch.stack(means), torch.stack(covars)\n",
    "        # (s, z, eta, mu, sigma)\n",
    "\n",
    "        "
   ]
  },
  {
   "cell_type": "code",
   "execution_count": 17,
   "metadata": {
    "hideCode": false,
    "hidePrompt": false
   },
   "outputs": [
    {
     "data": {
      "text/plain": [
       "(torch.Size([6, 10, 10]),\n",
       " torch.Size([4, 10, 10]),\n",
       " torch.Size([4, 10, 10, 9]),\n",
       " torch.Size([6, 100]),\n",
       " torch.Size([6, 100]))"
      ]
     },
     "execution_count": 17,
     "metadata": {},
     "output_type": "execute_result"
    }
   ],
   "source": [
    "encoder = CNNEncoder(3, 4, 6, 3, 3, 32, 32)\n",
    "s, z, eta, mu, sigma = encoder(torch.rand(3, 32, 32))\n",
    "s.shape, z.shape, eta.shape, mu.shape, sigma.shape"
   ]
  },
  {
   "cell_type": "markdown",
   "metadata": {},
   "source": [
    "### Putting the VAE together\n",
    "\n",
    "Finally, we can piece the encoder and decoder together to form the VAE."
   ]
  },
  {
   "cell_type": "code",
   "execution_count": 18,
   "metadata": {},
   "outputs": [],
   "source": [
    "class VAE(nn.Module):\n",
    "    \n",
    "    def __init__(self, Nc, K1, K2, f1, f2, d2, d1, iW, iH, pool_size=3):\n",
    "        \"\"\"\n",
    "        Nc: Number of channels of the image. \n",
    "        K1: Number of 2D \"slices\" in layer 1. This is shared for the encoder and decoder.\n",
    "        K2: Number of 2D \"slices\" in layer 2. This is shared for the encoder and decoder. \n",
    "        f1, f2: Kernel size for the first and second filter bank respectively\n",
    "        d2, d1: Kernel size for the second and first dictionary respectively. \n",
    "        iW, iH: width and height of the image. \n",
    "        pool_size: The size of the pooling block. We are assuming that pooling blocks are square.\n",
    "        \"\"\"\n",
    "        \n",
    "        super().__init__()\n",
    "        self.encoder = CNNEncoder(Nc, K1, K2, f1, f2, iW, iH, pool_size)\n",
    "        cW, cH = iW // pool_size, iH // pool_size # code width, code height\n",
    "        self.decoder = DDGMDecoder(K2, K1, Nc, d2, d1, cW, cH, pool_size)\n",
    "        \n",
    "    def forward(self, x):\n",
    "        \"\"\"\n",
    "        x: Input image\n",
    "            Shape: (Nc, iW, iH)\n",
    "        \"\"\"\n",
    "        \n",
    "        s, z, eta, mu, sigma = self.encoder(x)\n",
    "        z = z.type(torch.LongTensor)\n",
    "        x_reconstructed, mu_decoder = self.decoder(s, z)\n",
    "        \n",
    "        \n",
    "        return x_reconstructed, mu, sigma, eta, mu_decoder, self.decoder.get_precision()"
   ]
  },
  {
   "cell_type": "code",
   "execution_count": 19,
   "metadata": {},
   "outputs": [],
   "source": [
    "kwargs = {\"Nc\": 3, \"K1\": 4, \"K2\": 6, \"f1\": 3, \"f2\": 3, \"d2\": 3, \"d1\": 3, \"iW\": 32, \"iH\": 32}\n",
    "vae = VAE(**kwargs)\n",
    "x_reconstructed, mu, sigma, eta, mu_decoder, alpha = vae(torch.randn(3, 32, 32))"
   ]
  },
  {
   "cell_type": "markdown",
   "metadata": {},
   "source": [
    "### Caption Generator: RNN"
   ]
  },
  {
   "cell_type": "markdown",
   "metadata": {},
   "source": [
    "I created a simple figure to translate section 3.2 into a visual model architecture to help implement the model.\n",
    "\n",
    "<img src=\"./images/model_arch.jpg\" width=600>\n",
    "\n",
    "Therefore, we need 3 layers to perform caption generation:\n",
    "\n",
    "- 2 layered MLP with tanh and softmax activation\n",
    "    - Generates first word from $s^{(n)}$\n",
    "    - Last layer converts hidden state $h_t^{(n)}$ into one hot word vector $y_t^{(n)}$\n",
    "    \n",
    "- Embedding layer\n",
    "    - Converts one hot word vector $y_t^{(n)}$ into word representation $w_t^{(n)}$\n",
    "    \n",
    "- RNN (Can be LTSU or GRU)\n",
    "    - Recursively generates other words until the stop symbol is generated.\n",
    "    \n",
    "\n",
    "\n",
    "For the implementation below, I opted to use the indices instead of a one hot vector since the operations support indices better. \n",
    "    "
   ]
  },
  {
   "cell_type": "code",
   "execution_count": 20,
   "metadata": {},
   "outputs": [],
   "source": [
    "class CaptionRNN(nn.Module):\n",
    "    \n",
    "    CAPTION_LIMIT = 30\n",
    "    \n",
    "    def __init__(self, V, M, H, C, stop_index):\n",
    "        \"\"\"\n",
    "        V: Size of the vocabulary\n",
    "        M: Size of embedded vector\n",
    "        H: Number of features for hidden state h\n",
    "        C: Flattened size of input code s\n",
    "        stop_index: The index that represents the end of a sentence.\n",
    "        \"\"\"\n",
    "        \n",
    "        super().__init__()\n",
    "        \n",
    "        self.mlp_l1 = nn.Linear(in_features=C, out_features=H)\n",
    "        self.mlp_l2 = nn.Linear(in_features=H, out_features=V)\n",
    "        \n",
    "        self.gru = nn.GRU(input_size=M, hidden_size=H, batch_first=True)\n",
    "        self.embedding = nn.Embedding(V, M)\n",
    "        self.stop_index = stop_index\n",
    "        \n",
    "        self.V = V\n",
    "    \n",
    "    def forward(self, x, limit=None):\n",
    "        \"\"\"\n",
    "        x: Unflattened code s.\n",
    "        Limit denotes the maximum number of words we should generate. \n",
    "            Default value can be set by changing CaptionRNN.CAPTION_LIMIT. \n",
    "        \"\"\"\n",
    "        \n",
    "        h1 = torch.tanh(self.mlp_l1(x.reshape(-1)))\n",
    "        prob_1 = F.softmax(self.mlp_l2(h1), dim=-1)\n",
    "        y1 = torch.multinomial(prob_1, 1)\n",
    "        \n",
    "        words = [y1]\n",
    "        probs = [prob_1]\n",
    "        ht = h1\n",
    "        wt = self.embedding(y1)\n",
    "        yt = -1\n",
    "        \n",
    "        # Prevents the RNN from possibly endlessly creating words\n",
    "        if not limit or limit < 0: \n",
    "            limit = CaptionRNN.CAPTION_LIMIT\n",
    "            \n",
    "        while len(words) < limit and not yt == self.stop_index:\n",
    "            # Output and hidden are the same in this case, so we just get the output. \n",
    "            \n",
    "            ht = self.gru(wt.unsqueeze(0), ht.unsqueeze(0).unsqueeze(0))[0]\n",
    "            ht = ht.squeeze(0).squeeze(0)\n",
    "            prob_t = F.softmax(self.mlp_l2(ht), dim=-1)\n",
    "            yt = torch.multinomial(prob_t, 1)\n",
    "            words.append(yt)\n",
    "            probs.append(prob_t)\n",
    "            wt = self.embedding(yt)\n",
    "    \n",
    "        return words\n",
    "    \n",
    "    \n",
    "    def caption_prob(self, x, y):\n",
    "        \"\"\"\n",
    "        Gets the probabilty of the caption being generated given the code x. \n",
    "        x: Unflattened code s.\n",
    "        y: Caption in the form [0, 1, 2, 3 ...], i.e shape (T, ) \n",
    "        \"\"\"\n",
    "        \n",
    "        h1 = torch.tanh(self.mlp_l1(x.reshape(-1)))\n",
    "        prob_1 = F.softmax(self.mlp_l2(h1), dim=-1)\n",
    "        \n",
    "        probs = [prob_1]\n",
    "        \n",
    "        ht = h1\n",
    "        wt = self.embedding(y[0])\n",
    "        \n",
    "        \n",
    "        for word in y[1:]:\n",
    "            ht = self.gru(wt.unsqueeze(0).unsqueeze(0), ht.unsqueeze(0).unsqueeze(0))[0]\n",
    "            ht = ht.squeeze(0).squeeze(0)\n",
    "            prob_t = F.softmax(self.mlp_l2(ht), dim=-1)\n",
    "            probs.append(prob_t)\n",
    "            wt = self.embedding(y[1])\n",
    "        \n",
    "        return torch.stack(probs)"
   ]
  },
  {
   "cell_type": "code",
   "execution_count": 21,
   "metadata": {},
   "outputs": [],
   "source": [
    "test = CaptionRNN(V=10, M=20, H=20, C=600, stop_index=None)\n",
    "# test(torch.rand((6, 10, 10)))"
   ]
  },
  {
   "cell_type": "markdown",
   "metadata": {},
   "source": [
    "## Complete model\n",
    "\n",
    "Finally, we put the VAE and CaptionRNN together to create the complete model."
   ]
  },
  {
   "cell_type": "code",
   "execution_count": 22,
   "metadata": {},
   "outputs": [],
   "source": [
    "class VAECaption(nn.Module):\n",
    "    \n",
    "    def __init__(self, Nc, K1, K2, f1, f2, d2, d1, iW, iH, V, M, H, stop_index, pool_size=3):\n",
    "        \"\"\"\n",
    "        Nc: Number of channels of the image. \n",
    "        K1: Number of 2D \"slices\" in layer 1. This is shared for the encoder and decoder.\n",
    "        K2: Number of 2D \"slices\" in layer 2. This is shared for the encoder and decoder. \n",
    "        f1, f2: Kernel size for the first and second filter bank respectively\n",
    "        d2, d1: Kernel size for the second and first dictionary respectively. \n",
    "        iW, iH: width and height of the image. \n",
    "        V: Size of the vocabulary\n",
    "        M: Size of embedded vector\n",
    "        H: Number of features for hidden state h\n",
    "        stop_index: The index that indicates end of sentence.\n",
    "        \n",
    "        pool_size: The size of the pooling block. We are assuming that pooling blocks are square.\n",
    "        \"\"\"\n",
    "        super().__init__()\n",
    "        \n",
    "        self.encoder = CNNEncoder(Nc, K1, K2, f1, f2, iW, iH, pool_size)\n",
    "        cW, cH = iW // pool_size, iH // pool_size # code width, code height\n",
    "        self.decoder = DDGMDecoder(K2, K1, Nc, d2, d1, cW, cH, pool_size)\n",
    "        self.captioner = CaptionRNN(V, M, H, K2*cW*cH, stop_index)\n",
    "        \n",
    "    def forward(self, x, get_caption=True):\n",
    "        \"\"\"\n",
    "        x: Input image\n",
    "            Shape: (Nc, iW, iH)\n",
    "        Limit denotes the maximum number of words we should generate. \n",
    "            Default value can be set by changing CaptionRNN.CAPTION_LIMIT. \n",
    "        \"\"\"\n",
    "        \n",
    "        s, z, eta, mu, sigma = self.encoder(x)\n",
    "        z = z.type(torch.LongTensor)\n",
    "#         self.decoder.set_distribution(z)\n",
    "        x_reconstructed, mu_decoder = self.decoder(s, z)\n",
    "        if get_caption:\n",
    "            caption = self.captioner(s)\n",
    "        else:\n",
    "            caption = None\n",
    "        \n",
    "        # First four are the outputs. Next three are variables we got from the encoder.\n",
    "        # Next two are variables from the decoder.\n",
    "        \n",
    "        return x_reconstructed, caption, mu, sigma, eta, mu_decoder, self.decoder.get_precision()\n",
    "    \n",
    "    def caption_prob(self, x, y):\n",
    "        \"\"\"\n",
    "        Returns the probabilities of the caption y being generated given the input image x.\n",
    "        \"\"\"\n",
    "        s, z, eta, mu, sigma = self.encoder(x)\n",
    "        return self.captioner.caption_prob(s, y)"
   ]
  },
  {
   "cell_type": "code",
   "execution_count": 23,
   "metadata": {},
   "outputs": [],
   "source": [
    "model = VAECaption(Nc=3, K1 = 4, K2 = 6, f1=3, f2=3, d2=3, d1=3, iW=32, iH=32, V=20, M=30, H=40, stop_index=19)\n",
    "x_reconstructed, caption, mu, sigma, eta, mu_decoder, alpha = model(torch.rand((3, 32, 32)))\n",
    "# x_reconstructed, caption, mu, sigma, eta, mu_decoder, alpha = model(image)"
   ]
  },
  {
   "cell_type": "markdown",
   "metadata": {},
   "source": [
    "## Loss\n",
    "\n",
    "\n",
    "\n",
    "We use the equations provided in [the supplementary material](https://papers.nips.cc/paper/2016/file/eb86d510361fc23b59f18c1bc9802cc6-Supplemental.zip) to try and formulate the loss function.\n",
    "\n",
    "From equation (5) in the supplementary material, we have the following:\n",
    "\n",
    "$$ \\mathcal{L}(\\mathbf{X}, \\mathbf{Y}) = -D_{KL}[q_{\\phi}(\\mathbf{s} | \\mathbf{X})|| p_{\\alpha}(\\mathbf{s})] + \\mathbb{E}_{q_{\\phi}(\\mathbf{s} | \\mathbf{X})} \\Big\\{ \\xi log(p_{\\psi}(\\mathbf{Y} | \\mathbf{s})) + \\mathbb{E}_{q_{\\phi}(\\mathbf{z} | \\mathbf{X})} \\big[ log p_{\\alpha}(\\mathbf{X}, \\mathbf{z} | \\mathbf{s}) - log q_{\\phi}(\\mathbf{z} | \\mathbf{X}) \\big] \\Big\\}$$\n",
    "\n",
    "\n",
    "The paper gave us a closed form solution of the KL term (equation 6), which is: \n",
    "\n",
    "$$\\frac{1}{2} \\sum_{j=1}^{J}\\big[ 1 - \\mu_j^2 - \\sigma_j^2 + log (\\sigma_j^2) \\big]$$\n",
    "\n",
    "We have to modify the CNN encoder to return the mean and variance vectors as well.\n",
    "\n",
    "It also showed us a reparameterization trick to help get rid of the $q_{\\phi}(\\mathbf{s} | \\mathbf{X})$ in the expectation (equation 7). \n",
    "\n",
    "We denote $\\hat{\\mathbf{s}}$ and $\\hat{\\mathbf{z}}$ to be the code and pooling map returned by our encoder. We can now get an approximation of the expected value as: \n",
    "\n",
    "$$  \\xi log(p_{\\psi}(\\mathbf{Y} | \\hat{\\mathbf{s}}) + \\mathbb{E}_{q_{\\phi}(\\mathbf{z} | \\mathbf{X})} \\big[ log p_{\\alpha}(\\mathbf{X}, \\mathbf{z} | \\hat{\\mathbf{s}}) - log q_{\\phi}(\\mathbf{z} | \\mathbf{X}) \\big]  $$\n",
    "\n",
    "\n",
    "We focus on the second expectation first. We realize that we can rewrite the expectation as the following:\n",
    "\n",
    "$$-D_{KL}(q_{\\phi}(\\mathbf{z} | \\mathbf{X}) || p_{\\alpha}(\\mathbf{z} | \\hat{\\mathbf{s}})) + \\mathbb{E}_{q_{\\phi}(\\mathbf{z} | \\mathbf{X})} log p_{\\alpha}(\\mathbf{X}| \\mathbf{z} , \\hat{\\mathbf{s}})$$\n",
    "\n",
    "From [this math stackexchange post](https://math.stackexchange.com/questions/485810/kl-divergence-of-multinomial-distribution) we can get the following equation for the KL divergence between two multinomial distributions. We note that the prior is uniform. \n",
    "\n",
    "$$- (log(p) + \\frac{1}{p}\\sum_{m=1}^{p}log(\\eta_{i, j, k, m}))$$\n",
    "\n",
    "Where p is the size of the (square) pooling block, and $\\eta{i, j, k}$ represents the probability vector for pooling block i, j in layer k of the pooling map. To get the full KL divergence, we will simply sum across all pooling blocks in all layers.\n",
    "\n",
    "$$- \\sum_{i} \\sum_{j} \\sum_{k} (log(p) + \\frac{1}{p}\\sum_{m=1}^{p}log(\\eta_{i, j, k, m})) $$\n",
    "\n",
    "We can get an approximation of the expected value as: \n",
    "\n",
    "$$log p_{\\alpha}(\\mathbf{X}| \\hat{\\mathbf{z}}, \\hat{\\mathbf{s}})$$\n",
    "\n",
    "\n",
    "Let $d(\\mathbf{s}, \\mathbf{z})$ denote the operations we perform on the DDGM to get the mean of the data generation layer. Thus:\n",
    "\n",
    "$$p_{\\alpha}(\\mathbf{X}| \\hat{\\mathbf{z}}, \\hat{\\mathbf{s}}) = \\mathcal{N}(\\mathbf{X}; d(\\hat{\\mathbf{s}}, \\hat{\\mathbf{z}}), \\alpha_0^{-1}\\mathbf{I})$$. \n",
    "\n",
    "\n",
    "\n",
    "Therefore, we can get $log p_{\\alpha}(\\mathbf{X}| \\hat{\\mathbf{z}}, \\hat{\\mathbf{s}})$ as: \n",
    "\n",
    "$$\\frac{1}{2}\\bigg[\\sum_{k} log \\alpha_0 - \\big(\\alpha_0(\\mathbf{X} - d(\\hat{\\mathbf{s}}, \\hat{\\mathbf{z}}))^T (\\mathbf{X} - d(\\hat{\\mathbf{s}}, \\hat{\\mathbf{z}}) \\big)\\bigg]$$\n",
    "\n",
    "Where k is the dimension of X. (In this case, it's $N_x * N_y$)\n",
    "\n",
    "We need to modify the DDGM's forward method to return the mean. Note that we have to this for each layer in the image.\n",
    "\n",
    "\n",
    "Finally, for $\\xi log(p_{\\psi}(\\mathbf{Y} | \\mathbf{s}))$:\n",
    "\n",
    "$$p_{\\psi}(\\mathbf{Y} | \\mathbf{s}) = p(\\mathbf{y_1} | \\hat{\\mathbf{s}}) \\prod_{t=2}^{T} p(\\mathbf{y_t} | \\mathbf{y_{<t}}, \\hat{\\mathbf{s}})$$\n",
    "\n",
    "Where $p(\\mathbf{y_1} | \\hat{\\mathbf{s}})$ is $\\text{Softmax}(Vh_1)_{argmax(y_1)}$ and $p(\\mathbf{y_t} | \\mathbf{y_{<t}}, \\hat{\\mathbf{s}})$ is $\\text{Softmax}(Vh_t)_{argmax(y_t)}$, i.e the softmax value located at the index where $y_t = 1$.\n",
    "\n",
    "We can therefore get the equation: \n",
    "\n",
    "$$log (\\text{Softmax}(Vh_1)_{argmax(y_1)}) + \\sum_{t=2}^{T} log(\\text{Softmax}(Vh_t)_{argmax(y_t)}) $$\n",
    "\n",
    "\n",
    "Putting everything together, we have: \n",
    "\n",
    "\n",
    "$$\\frac{1}{2} \\sum_{j=1}^{J}\\big[ 1 - \\mu_j^2 - \\sigma_j^2 + log (\\sigma_j^2) \\big] - \\sum_{i} \\sum_{j} \\sum_{k} (log(p) + \\frac{1}{p}\\sum_{m=1}^{p}log(\\eta_{i, j, k, m}))  + \\frac{1}{2}\\bigg[\\sum log \\alpha_0 - \\big(\\alpha_0(\\mathbf{X} - d(\\hat{\\mathbf{s}}, \\hat{\\mathbf{z}}))^T (\\mathbf{X} - d(\\hat{\\mathbf{s}}, \\hat{\\mathbf{z}}) \\big)\\bigg] + \\xi \\big( log (\\text{Softmax}(Vh_1)_{argmax(y_1)}) + \\sum_{t=2}^{T} log(\\text{Softmax}(Vh_t)_{argmax(y_t)}) \\big)$$"
   ]
  },
  {
   "cell_type": "code",
   "execution_count": 24,
   "metadata": {},
   "outputs": [],
   "source": [
    "def KL_gaussian(mu, sigma):\n",
    "    \"\"\"\n",
    "    Calculates the KL divergence term for the code.\n",
    "    \n",
    "    Note that the CNN calculates the log sigma, so we have to do appropiate transformations to get the correct\n",
    "    result. \n",
    "    \"\"\"\n",
    "    \n",
    "    vector = 1 - (mu ** 2) - torch.exp(2 * sigma) + (2 * sigma)\n",
    "    return 0.5 * vector.sum()\n",
    "\n",
    "def KL_multinomial(eta, pool_size):\n",
    "    \"\"\"\n",
    "    Calculate the KL divergence term for the pooling map.\n",
    "    Pool size should be the area, not the length of each square (VAE._pool_size ** 2)\n",
    "    \"\"\"\n",
    "    \n",
    "    return (torch.log(torch.Tensor([pool_size])) + (torch.log(eta).sum(axis=-1)/pool_size)).sum()\n",
    "\n",
    "def reconstruction_error(x, mu_decoder, alpha):\n",
    "    \"\"\"\n",
    "    Calculates the reconstruction error. \n",
    "    \n",
    "    Note that we store log(alpha) in the decoder, so we have to perform appropiate transformations to get the \n",
    "    correct result.\n",
    "    \n",
    "    When x and mu_decoder are of different shapes (due to the pooling layer), we will make x the same \n",
    "    shape as mu_decoder. \n",
    "    \n",
    "    \"\"\"\n",
    "    \n",
    "    K, iW, iH = mu_decoder.shape\n",
    "    \n",
    "    x = x[:, :iW, :iH]\n",
    "    x_flat = x.reshape(-1)\n",
    "    mu_flat = mu_decoder.reshape(-1)\n",
    "    \n",
    "    p1 = alpha * (K*iW*iH)\n",
    "    p2 = torch.exp(alpha) * ((x_flat - mu_flat)**2).sum()\n",
    "    return 0.5 * (p1 - p2)\n",
    "    \n",
    "def caption_likelihood(y, probs):\n",
    "    \"\"\"\n",
    "    Calculates the caption likelihood.\n",
    "    \n",
    "    Since we the caption are represented as indexes, we do not have to do argmax anymore. \n",
    "    y has the shape (T, )\n",
    "        T: Number of words in this caption \n",
    "    \"\"\" \n",
    "    \n",
    "    prob_vectors = probs[np.arange(probs.shape[0]), y]\n",
    "    return torch.log(prob_vectors).sum()\n",
    "\n",
    "def calculate_loss(x, y, mu, sigma, eta, pool_size, mu_decoder, alpha, probs=None, xi=0, verbose=False):\n",
    "    \"\"\"\n",
    "    Calculates the loss of the VAE captioner. Default to unsupervised learning (uncaptioned image)\n",
    "    \"\"\"\n",
    "    \n",
    "    p1 = KL_gaussian(mu, sigma) \n",
    "    p2 = KL_multinomial(eta, pool_size)\n",
    "    p3 = reconstruction_error(x, mu_decoder, alpha)\n",
    "    p4 = (xi * caption_likelihood(y, probs) if xi else 0)\n",
    "    if verbose:\n",
    "        print(f\"Gaussian KL: {p1.item()}\")\n",
    "        print(f\"Multinomial KL: {-p2.item()}\")\n",
    "        print(f\"Reconstruction error: {p3.item()}\")\n",
    "    \n",
    "    \n",
    "    return p1 - p2 + p3 + p4\n",
    "#     return p1 + p3\n",
    "    "
   ]
  },
  {
   "cell_type": "code",
   "execution_count": 25,
   "metadata": {},
   "outputs": [],
   "source": [
    "import matplotlib.pyplot as plt\n",
    "from torch.utils.data import Dataset, DataLoader\n",
    "from PIL import Image\n",
    "from torchvision.transforms import transforms\n",
    "import os\n",
    "import glob\n",
    "from tqdm.auto import tqdm"
   ]
  },
  {
   "cell_type": "code",
   "execution_count": 26,
   "metadata": {},
   "outputs": [],
   "source": [
    "class ImageDataset(Dataset):\n",
    "    \n",
    "    def __init__(self, transforms=None):\n",
    "        \n",
    "        self.images = glob.glob(\"./data/train/*.jpg\")\n",
    "        self.transforms = transforms\n",
    "        \n",
    "    def __getitem__(self, idx):\n",
    "        \n",
    "        image = Image.open(self.images[0]).convert(\"RGB\")\n",
    "        \n",
    "        if self.transforms:\n",
    "            image = self.transforms(image)\n",
    "        \n",
    "        return image\n",
    "    \n",
    "    def __len__(self):\n",
    "        return 1"
   ]
  },
  {
   "cell_type": "code",
   "execution_count": 27,
   "metadata": {},
   "outputs": [],
   "source": [
    "transform = transforms.Compose([\n",
    "    transforms.Resize((30, 30)),\n",
    "    transforms.ToTensor(),\n",
    "    transforms.Normalize([0.485, 0.456, 0.406], [0.229, 0.224, 0.225])\n",
    "])\n",
    "\n",
    "dataset = ImageDataset(transform)\n",
    "dataloader = DataLoader(dataset, batch_size=1)"
   ]
  },
  {
   "cell_type": "code",
   "execution_count": 28,
   "metadata": {},
   "outputs": [],
   "source": [
    "kwargs = {\"Nc\": 3, \"K1\": 30, \"K2\": 40, \"f1\": 3, \"f2\": 3, \"d2\": 3, \"d1\": 3, \"iW\": 30, \"iH\": 30}\n",
    "model = VAE(**kwargs)\n",
    "optimizer = torch.optim.SGD(model.parameters(), lr=1e-7)"
   ]
  },
  {
   "cell_type": "code",
   "execution_count": 29,
   "metadata": {},
   "outputs": [
    {
     "data": {
      "application/vnd.jupyter.widget-view+json": {
       "model_id": "9297b8018a1b47e081fda77d7d73e5a8",
       "version_major": 2,
       "version_minor": 0
      },
      "text/plain": [
       "HBox(children=(FloatProgress(value=0.0), HTML(value='')))"
      ]
     },
     "metadata": {},
     "output_type": "display_data"
    },
    {
     "name": "stdout",
     "output_type": "stream",
     "text": [
      "\n"
     ]
    }
   ],
   "source": [
    "EPOCHS = 100\n",
    "losses = []\n",
    "for epoch in tqdm(range(EPOCHS)):\n",
    "    for image in dataloader: \n",
    "        image = image.squeeze(0)\n",
    "        x_reconstructed, mu, sigma, eta, mu_decoder, alpha = model(image)\n",
    "        loss = -calculate_loss(image, None, mu, sigma, eta, 9, mu_decoder, alpha)\n",
    "#         print(f\"Total Loss: {loss.item()}\")\n",
    "        loss.backward()\n",
    "        optimizer.step()\n",
    "        optimizer.zero_grad()\n",
    "        \n",
    "        losses.append(loss.item())"
   ]
  },
  {
   "cell_type": "code",
   "execution_count": 30,
   "metadata": {},
   "outputs": [
    {
     "data": {
      "text/plain": [
       "[<matplotlib.lines.Line2D at 0x7fb897064250>]"
      ]
     },
     "execution_count": 30,
     "metadata": {},
     "output_type": "execute_result"
    },
    {
     "data": {
      "image/png": "[encoded data removed]",
      "text/plain": [
       "<Figure size 432x288 with 1 Axes>"
      ]
     },
     "metadata": {
      "needs_background": "light"
     },
     "output_type": "display_data"
    }
   ],
   "source": [
    "plt.plot(losses)"
   ]
  }
 ],
 "metadata": {
  "hide_code_all_hidden": false,
  "kernelspec": {
   "display_name": "Python 3",
   "language": "python",
   "name": "python3"
  },
  "language_info": {
   "codemirror_mode": {
    "name": "ipython",
    "version": 3
   },
   "file_extension": ".py",
   "mimetype": "text/x-python",
   "name": "python",
   "nbconvert_exporter": "python",
   "pygments_lexer": "ipython3",
   "version": "3.7.9"
  }
 },
 "nbformat": 4,
 "nbformat_minor": 4
}
