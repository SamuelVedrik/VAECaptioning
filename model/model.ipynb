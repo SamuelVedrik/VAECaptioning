{
 "cells": [
  {
   "cell_type": "markdown",
   "metadata": {},
   "source": [
    "# Deep VAE for captioning\n",
    "\n",
    "This notebook was inspired from this github repository [here](https://github.com/shivakanthsujit/VAE-PyTorch/blob/master/VAE.ipynb). I tried to stay closer to the network described in [Variational Autoencoder for Deep Learning of Images, Labels and Captions](https://proceedings.neurips.cc/paper/2016/file/eb86d510361fc23b59f18c1bc9802cc6-Paper.pdf), however I didn't succeed in using stochastic pooling."
   ]
  },
  {
   "cell_type": "markdown",
   "metadata": {},
   "source": [
    "### Importing Dependencies"
   ]
  },
  {
   "cell_type": "code",
   "execution_count": 1,
   "metadata": {},
   "outputs": [],
   "source": [
    "import torch\n",
    "from torch import nn, optim\n",
    "import torch.nn.functional as F\n",
    "import torchvision.models as model\n",
    "from torch.utils.data import Dataset, DataLoader\n",
    "from PIL import Image\n",
    "from torchvision.transforms import transforms\n",
    "import os\n",
    "import glob\n",
    "from tqdm.auto import tqdm\n",
    "\n",
    "import numpy as np\n",
    "import matplotlib.pyplot as plt"
   ]
  },
  {
   "cell_type": "code",
   "execution_count": 2,
   "metadata": {},
   "outputs": [],
   "source": [
    "class ConvLeak(nn.Module):\n",
    "    \n",
    "    def __init__(self, in_channels, out_channels):\n",
    "        \n",
    "        super().__init__()\n",
    "        self.layer = nn.Sequential(\n",
    "            nn.Conv2d(in_channels=in_channels, out_channels=out_channels, kernel_size=5, padding=2),\n",
    "            nn.LeakyReLU(),\n",
    "        )\n",
    "        \n",
    "    def forward(self, x):\n",
    "        return self.layer(x)\n",
    "    \n",
    "    \n",
    "class ConvTransposeLeak(nn.Module):\n",
    "    \n",
    "    def __init__(self, in_channels, out_channels):\n",
    "        super().__init__()\n",
    "        self.layer = nn.Sequential(\n",
    "            nn.ConvTranspose2d(in_channels=in_channels, out_channels=out_channels, kernel_size=5, padding=2),\n",
    "            nn.LeakyReLU(),\n",
    "        )\n",
    "        \n",
    "    def forward(self, x):\n",
    "        return self.layer(x)   "
   ]
  },
  {
   "cell_type": "code",
   "execution_count": 3,
   "metadata": {},
   "outputs": [],
   "source": [
    "class Encoder(nn.Module):\n",
    "    \n",
    "    def __init__(self, in_channels, out_channels, image_dim, latent_dim):\n",
    "        \n",
    "        super().__init__()\n",
    "        \n",
    "        # Some constants\n",
    "        \n",
    "        iW, iH = image_dim\n",
    "        hW, hH = iW//4, iH//4\n",
    "        vec_dim = out_channels * hW * hH\n",
    "        \n",
    "        self.layer1 = nn.Sequential(\n",
    "            ConvLeak(in_channels=in_channels, out_channels=64),\n",
    "            ConvLeak(in_channels=64, out_channels=64)\n",
    "        )\n",
    "        \n",
    "        self.pooling = nn.MaxPool2d(2, return_indices=True)\n",
    "        \n",
    "        self.layer2 = nn.Sequential(\n",
    "            ConvLeak(in_channels=64, out_channels=128),\n",
    "            ConvLeak(in_channels=128, out_channels=128)\n",
    "        )\n",
    "        \n",
    "        self.layer3 = nn.Sequential(\n",
    "            ConvLeak(in_channels=128, out_channels=out_channels),\n",
    "            nn.Flatten()\n",
    "        )\n",
    "        \n",
    "        self.hidden = nn.Sequential(\n",
    "            nn.Linear(in_features = vec_dim, out_features=latent_dim),\n",
    "            nn.Tanh()\n",
    "        )\n",
    "            \n",
    "        self.encoder_mean = nn.Linear(in_features = latent_dim, out_features = vec_dim)\n",
    "        self.encoder_logstd = nn.Linear(in_features = latent_dim, out_features = vec_dim)\n",
    "        \n",
    "        \n",
    "        \n",
    "    def generate_code(self, mean, log_std):\n",
    "        \n",
    "        sigma = torch.exp(log_std)\n",
    "        epsilon = torch.randn_like(mean)\n",
    "        return (sigma * epsilon) + mean \n",
    "        \n",
    "        \n",
    "    def forward(self, x):\n",
    "        \n",
    "        x = self.layer1(x)\n",
    "        x, indices_1 = self.pooling(x)\n",
    "        x = self.layer2(x)\n",
    "        x, indices_2 = self.pooling(x)\n",
    "        x = self.layer3(x)\n",
    "        hidden = self.hidden(x)\n",
    "        mean, log_std = self.encoder_mean(hidden), self.encoder_logstd(hidden)\n",
    "        c = self.generate_code(mean, log_std)\n",
    "        \n",
    "        return c, indices_1, indices_2, mean, log_std\n",
    "        \n",
    "        \n",
    "        "
   ]
  },
  {
   "cell_type": "code",
   "execution_count": 4,
   "metadata": {},
   "outputs": [],
   "source": [
    "class Decoder(nn.Module):\n",
    "    \n",
    "    def __init__(self, in_channels, out_channels, image_dim):\n",
    "        \n",
    "        super().__init__()\n",
    "        \n",
    "        iW, iH = image_dim\n",
    "        hW, hH = iW//4, iH//4\n",
    "        \n",
    "        self.layer3 = nn.Sequential(\n",
    "            nn.Unflatten(1, unflattened_size=(in_channels, hW, hH)),\n",
    "            ConvTransposeLeak(in_channels=in_channels, out_channels=128)\n",
    "        )\n",
    "        \n",
    "        self.unpooling = nn.MaxUnpool2d(2)\n",
    "        \n",
    "        self.layer2 = nn.Sequential(\n",
    "            ConvTransposeLeak(in_channels=128, out_channels=128),\n",
    "            ConvTransposeLeak(in_channels=128, out_channels=64)\n",
    "        )\n",
    "        \n",
    "        self.layer1 = nn.Sequential(\n",
    "            ConvTransposeLeak(in_channels=64, out_channels=64),\n",
    "            ConvTransposeLeak(in_channels=64, out_channels=out_channels)\n",
    "        )\n",
    "        \n",
    "        self.precision = nn.Parameter(torch.rand(1))\n",
    "        \n",
    "        \n",
    "    def generate_data(self, mean, precision):\n",
    "        \n",
    "        # Precision is 1/variance\n",
    "        sigma = torch.exp(-precision)\n",
    "        epsilon = torch.randn_like(mean)\n",
    "        return (sigma * epsilon) + mean\n",
    "        \n",
    "    def forward(self, x, indices_1, indices_2):\n",
    "        \n",
    "        x = self.layer3(x)\n",
    "        x = self.unpooling(x, indices_2)\n",
    "        x = self.layer2(x)\n",
    "        x = self.unpooling(x, indices_1)\n",
    "        x = self.layer1(x)\n",
    "        \n",
    "        return x\n",
    "#         return self.generate_data(x, self.precision)\n",
    "        \n",
    "        \n",
    "        "
   ]
  },
  {
   "cell_type": "code",
   "execution_count": 5,
   "metadata": {},
   "outputs": [],
   "source": [
    "class DVAE(nn.Module):\n",
    "    \n",
    "    def __init__(self, in_channels, image_dim, latent_dim):\n",
    "        \n",
    "        super().__init__()\n",
    "        self.encoder = Encoder(in_channels=in_channels, out_channels=256, image_dim=image_dim, \n",
    "                               latent_dim=latent_dim)\n",
    "        \n",
    "        self.decoder = Decoder(in_channels=256, out_channels=in_channels, image_dim=image_dim)\n",
    "        \n",
    "    def forward(self, x):\n",
    "        c, indices_1, indices_2, mean, log_std = self.encoder(x)\n",
    "        x_new = self.decoder(c, indices_1, indices_2)\n",
    "        \n",
    "        return x_new, mean, log_std\n",
    "        \n",
    "        "
   ]
  },
  {
   "cell_type": "markdown",
   "metadata": {},
   "source": [
    "# Dataset\n",
    "\n",
    "\n",
    "Just using 8 images here as a proof of concept. "
   ]
  },
  {
   "cell_type": "code",
   "execution_count": 18,
   "metadata": {},
   "outputs": [],
   "source": [
    "class ImageDataset(Dataset):\n",
    "    \n",
    "    def __init__(self, transforms=None):\n",
    "        \n",
    "        self.images = glob.glob(\"../data/train/apple_*.jpg\")\n",
    "        self.transforms = transforms\n",
    "        \n",
    "    def __getitem__(self, idx):\n",
    "        \n",
    "        image = Image.open(self.images[idx]).convert(\"RGB\")\n",
    "        \n",
    "        if self.transforms:\n",
    "            image = self.transforms(image)\n",
    "        \n",
    "        return image\n",
    "    \n",
    "    def __len__(self):\n",
    "        return 8"
   ]
  },
  {
   "cell_type": "code",
   "execution_count": 19,
   "metadata": {},
   "outputs": [],
   "source": [
    "transform = transforms.Compose([\n",
    "    transforms.Resize((32, 32)),\n",
    "    transforms.ToTensor(),\n",
    "    transforms.Normalize([0.485, 0.456, 0.406], [0.229, 0.224, 0.225])\n",
    "])\n",
    "\n",
    "dataset = ImageDataset(transform)\n",
    "dataloader = DataLoader(dataset, batch_size=8, shuffle=True)"
   ]
  },
  {
   "cell_type": "markdown",
   "metadata": {},
   "source": [
    "# Training"
   ]
  },
  {
   "cell_type": "code",
   "execution_count": 20,
   "metadata": {},
   "outputs": [],
   "source": [
    "model = DVAE(3, (32, 32), 100)\n",
    "criterion = nn.MSELoss(reduction='sum')\n",
    "optimizer = optim.AdamW(model.parameters())"
   ]
  },
  {
   "cell_type": "code",
   "execution_count": 21,
   "metadata": {},
   "outputs": [
    {
     "data": {
      "application/vnd.jupyter.widget-view+json": {
       "model_id": "fa8d096f85754416b2785b6d9ce74622",
       "version_major": 2,
       "version_minor": 0
      },
      "text/plain": [
       "HBox(children=(FloatProgress(value=0.0), HTML(value='')))"
      ]
     },
     "metadata": {},
     "output_type": "display_data"
    },
    {
     "name": "stdout",
     "output_type": "stream",
     "text": [
      "\n"
     ]
    }
   ],
   "source": [
    "losses = []\n",
    "epochs = 100\n",
    "for epoch in tqdm(range(epochs)):\n",
    "    for image in dataloader:\n",
    "        \n",
    "        reconstructed, mean, log_std = model(image)\n",
    "        reconstruction_error = criterion(reconstructed, image)\n",
    "        KL_divergence = - (1 - mean.pow(2) - torch.exp(2 * log_std) + (2 *log_std)).sum()\n",
    "        loss = reconstruction_error + KL_divergence\n",
    "        loss.backward()\n",
    "\n",
    "        optimizer.step()\n",
    "        optimizer.zero_grad()\n",
    "\n",
    "\n",
    "        losses.append(loss.item())\n",
    "        \n",
    "        "
   ]
  },
  {
   "cell_type": "code",
   "execution_count": 22,
   "metadata": {},
   "outputs": [],
   "source": [
    "invTrans = transforms.Compose([ transforms.Normalize(mean = [ 0., 0., 0. ],\n",
    "                                                     std = [ 1/0.229, 1/0.224, 1/0.225 ]),\n",
    "                                transforms.Normalize(mean = [ -0.485, -0.456, -0.406 ],\n",
    "                                                     std = [ 1., 1., 1. ]),\n",
    "                               ])"
   ]
  },
  {
   "cell_type": "code",
   "execution_count": 25,
   "metadata": {},
   "outputs": [
    {
     "data": {
      "text/plain": [
       "<matplotlib.image.AxesImage at 0x7fd64aaa3d90>"
      ]
     },
     "execution_count": 25,
     "metadata": {},
     "output_type": "execute_result"
    },
    {
     "data": {
      "image/png": "[encoded data removed]",
      "text/plain": [
       "<Figure size 432x288 with 1 Axes>"
      ]
     },
     "metadata": {
      "needs_background": "light"
     },
     "output_type": "display_data"
    }
   ],
   "source": [
    "plt.imshow(invTrans(image[0]).permute(1, 2, 0))"
   ]
  },
  {
   "cell_type": "code",
   "execution_count": 29,
   "metadata": {},
   "outputs": [
    {
     "data": {
      "text/plain": [
       "<matplotlib.image.AxesImage at 0x7fd67e6d5c50>"
      ]
     },
     "execution_count": 29,
     "metadata": {},
     "output_type": "execute_result"
    },
    {
     "data": {
      "image/png": "[encoded data removed]",
      "text/plain": [
       "<Figure size 432x288 with 1 Axes>"
      ]
     },
     "metadata": {
      "needs_background": "light"
     },
     "output_type": "display_data"
    }
   ],
   "source": [
    "plt.imshow(torch.sigmoid(reconstructed[0].detach()).permute(1, 2, 0))"
   ]
  },
  {
   "cell_type": "code",
   "execution_count": 27,
   "metadata": {},
   "outputs": [
    {
     "data": {
      "text/plain": [
       "[<matplotlib.lines.Line2D at 0x7fd64abd0c50>]"
      ]
     },
     "execution_count": 27,
     "metadata": {},
     "output_type": "execute_result"
    },
    {
     "data": {
      "image/png": "[encoded data removed]",
      "text/plain": [
       "<Figure size 432x288 with 1 Axes>"
      ]
     },
     "metadata": {
      "needs_background": "light"
     },
     "output_type": "display_data"
    }
   ],
   "source": [
    "plt.plot(losses)"
   ]
  },
  {
   "cell_type": "code",
   "execution_count": null,
   "metadata": {},
   "outputs": [],
   "source": []
  }
 ],
 "metadata": {
  "kernelspec": {
   "display_name": "Python 3",
   "language": "python",
   "name": "python3"
  },
  "language_info": {
   "codemirror_mode": {
    "name": "ipython",
    "version": 3
   },
   "file_extension": ".py",
   "mimetype": "text/x-python",
   "name": "python",
   "nbconvert_exporter": "python",
   "pygments_lexer": "ipython3",
   "version": "3.7.9"
  }
 },
 "nbformat": 4,
 "nbformat_minor": 4
}
